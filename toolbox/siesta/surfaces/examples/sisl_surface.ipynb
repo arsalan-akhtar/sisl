{
 "cells": [
  {
   "cell_type": "code",
   "execution_count": 1,
   "id": "8b028ab7",
   "metadata": {},
   "outputs": [],
   "source": [
    "from toolbox.siesta.surfaces.surfaces import Surfaces\n",
    "import sisl"
   ]
  },
  {
   "cell_type": "code",
   "execution_count": 2,
   "id": "20a0e4fa",
   "metadata": {},
   "outputs": [],
   "source": [
    "bulk = sisl.get_sile(\"relax.fdf\").read_geometry()\n"
   ]
  },
  {
   "cell_type": "code",
   "execution_count": 3,
   "id": "fa61276c",
   "metadata": {},
   "outputs": [],
   "source": [
    "S= Surfaces(bulk_structure=bulk)"
   ]
  },
  {
   "cell_type": "code",
   "execution_count": 4,
   "id": "0dedc881",
   "metadata": {},
   "outputs": [
    {
     "name": "stdout",
     "output_type": "stream",
     "text": [
      "Generating Slabs Using PyMatgen Lib\n"
     ]
    }
   ],
   "source": [
    "S.Genarate_Slabs_Pymatgen()"
   ]
  },
  {
   "cell_type": "code",
   "execution_count": 5,
   "id": "3730cc69",
   "metadata": {},
   "outputs": [],
   "source": [
    "from pymatgen.io.ase import AseAtomsAdaptor"
   ]
  },
  {
   "cell_type": "code",
   "execution_count": 6,
   "id": "7910ab41",
   "metadata": {},
   "outputs": [],
   "source": [
    "Pymatgen_Structure = AseAtomsAdaptor.get_structure(S.bulk_structure.toASE())"
   ]
  },
  {
   "cell_type": "code",
   "execution_count": 7,
   "id": "1b44ea96",
   "metadata": {},
   "outputs": [],
   "source": [
    "from pymatgen.core.surface import generate_all_slabs"
   ]
  },
  {
   "cell_type": "code",
   "execution_count": 11,
   "id": "a2aa7d1c",
   "metadata": {},
   "outputs": [],
   "source": [
    "all_slabs = generate_all_slabs (structure=Pymatgen_Structure,\n",
    "                                max_index=1,\n",
    "                                min_slab_size=1,\n",
    "                                min_vacuum_size=10,\n",
    "                                max_normal_search=True,\n",
    "                                center_slab=True)"
   ]
  },
  {
   "cell_type": "code",
   "execution_count": 12,
   "id": "9b8740c6",
   "metadata": {},
   "outputs": [
    {
     "name": "stdout",
     "output_type": "stream",
     "text": [
      "0 is Symmetric:False is Polar False\n",
      "1 is Symmetric:True is Polar False\n",
      "2 is Symmetric:True is Polar False\n"
     ]
    }
   ],
   "source": [
    "for n, slab in enumerate(all_slabs):\n",
    "    print(n,f\"is Symmetric:{slab.is_symmetric()}\" , f\"is Polar {slab.is_polar()}\")"
   ]
  },
  {
   "cell_type": "code",
   "execution_count": 13,
   "id": "5d205361",
   "metadata": {},
   "outputs": [],
   "source": [
    "for n, slab in enumerate(all_slabs):\n",
    "    slab.to('xsf',f'MgO_slab{n}.xsf')"
   ]
  },
  {
   "cell_type": "code",
   "execution_count": 14,
   "id": "160e613c",
   "metadata": {},
   "outputs": [
    {
     "data": {
      "text/plain": [
       "Structure Summary\n",
       "Lattice\n",
       "    abc : 2.9895647747186636 2.989564774718663 21.968724683895775\n",
       " angles : 89.99999911479466 90.00000088520534 120.00000062593467\n",
       " volume : 170.04012304836402\n",
       "      A : 2.989564774718663 0.0 -4.618802132931689e-08\n",
       "      B : -1.4947824156436016 2.5890390248355333 4.618802169543298e-08\n",
       "      C : 0.0 0.0 21.968724683895775\n",
       "PeriodicSite: Mg (-0.0000, 1.7260, 9.1536) [0.3333, 0.6667, 0.4167]\n",
       "PeriodicSite: Mg (1.4948, 2.5890, 14.0356) [1.0000, 1.0000, 0.6389]\n",
       "PeriodicSite: Mg (1.4948, 0.8630, 11.5946) [0.6667, 0.3333, 0.5278]\n",
       "PeriodicSite: O (1.4948, 2.5890, 10.3741) [1.0000, 1.0000, 0.4722]\n",
       "PeriodicSite: O (1.4948, 0.8630, 7.9332) [0.6667, 0.3333, 0.3611]\n",
       "PeriodicSite: O (-0.0000, 1.7260, 12.8151) [0.3333, 0.6667, 0.5833]"
      ]
     },
     "execution_count": 14,
     "metadata": {},
     "output_type": "execute_result"
    }
   ],
   "source": [
    "#all_slabs[0]"
   ]
  },
  {
   "cell_type": "code",
   "execution_count": null,
   "id": "c341ed44",
   "metadata": {},
   "outputs": [],
   "source": []
  }
 ],
 "metadata": {
  "kernelspec": {
   "display_name": "Python 3 (ipykernel)",
   "language": "python",
   "name": "python3"
  },
  "language_info": {
   "codemirror_mode": {
    "name": "ipython",
    "version": 3
   },
   "file_extension": ".py",
   "mimetype": "text/x-python",
   "name": "python",
   "nbconvert_exporter": "python",
   "pygments_lexer": "ipython3",
   "version": "3.9.7"
  }
 },
 "nbformat": 4,
 "nbformat_minor": 5
}
