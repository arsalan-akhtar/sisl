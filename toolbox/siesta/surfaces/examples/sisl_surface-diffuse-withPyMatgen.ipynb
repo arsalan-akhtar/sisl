{
 "cells": [
  {
   "cell_type": "code",
   "execution_count": 1,
   "id": "8b028ab7",
   "metadata": {},
   "outputs": [],
   "source": [
    "from toolbox.siesta.surfaces.surfaces import Surfaces\n",
    "import sisl"
   ]
  },
  {
   "cell_type": "code",
   "execution_count": 2,
   "id": "20a0e4fa",
   "metadata": {},
   "outputs": [],
   "source": [
    "bulk = sisl.get_sile(\"relax.fdf\").read_geometry()"
   ]
  },
  {
   "cell_type": "code",
   "execution_count": 3,
   "id": "fa61276c",
   "metadata": {},
   "outputs": [],
   "source": [
    "S= Surfaces(bulk_structure=bulk,vacuum_amount=50.0,number_of_layers=15,oxidation_state_dict={'Mg':+2,'O':-2})"
   ]
  },
  {
   "cell_type": "code",
   "execution_count": 4,
   "id": "94f8e833",
   "metadata": {
    "scrolled": true
   },
   "outputs": [
    {
     "name": "stdout",
     "output_type": "stream",
     "text": [
      "Generating Slabs Using PyMatgen Lib\n",
      "111-nosymmetric-polar\n",
      "110-symmetric-nonpolar\n",
      "100-symmetric-nonpolar\n",
      "=========================\n",
      "Trying nl : (1, 1) ...\n",
      "=========================\n",
      "For : 111-nosymmetric-polar\n",
      "DK Previous is 1-111-nosymmetric-polar\n",
      "Checking :6 > 6\n",
      "=========================\n",
      "Trying nl : (4, 1) ...\n",
      "=========================\n",
      "For : 111-nosymmetric-polar\n",
      "DK Previous is 1-111-nosymmetric-polar\n",
      "Checking :6 > 6\n",
      "=========================\n",
      "Trying nl : (7, 1) ...\n",
      "=========================\n",
      "For : 111-nosymmetric-polar\n",
      "DK Previous is 1-111-nosymmetric-polar\n",
      "Checking :6 > 6\n",
      "=========================\n",
      "Trying nl : (10, 1) ...\n",
      "=========================\n",
      "For : 111-nosymmetric-polar\n",
      "DK Previous is 1-111-nosymmetric-polar\n",
      "Checking :12 > 6\n",
      "Found for 2.......\n",
      "DK Next is 2-111-nosymmetric-polar\n",
      "=========================\n",
      "Trying nl : (13, 2) ...\n",
      "=========================\n",
      "For : 111-nosymmetric-polar\n",
      "DK Previous is 2-111-nosymmetric-polar\n",
      "Checking :12 > 12\n",
      "=========================\n",
      "Trying nl : (16, 2) ...\n",
      "=========================\n",
      "For : 111-nosymmetric-polar\n",
      "DK Previous is 2-111-nosymmetric-polar\n",
      "Checking :18 > 12\n",
      "Found for 3.......\n",
      "DK Next is 3-111-nosymmetric-polar\n",
      "=========================\n",
      "Trying nl : (19, 3) ...\n",
      "=========================\n",
      "For : 111-nosymmetric-polar\n",
      "DK Previous is 3-111-nosymmetric-polar\n",
      "Checking :18 > 18\n",
      "=========================\n",
      "Trying nl : (22, 3) ...\n",
      "=========================\n",
      "For : 111-nosymmetric-polar\n",
      "DK Previous is 3-111-nosymmetric-polar\n",
      "Checking :24 > 18\n",
      "Found for 4.......\n",
      "DK Next is 4-111-nosymmetric-polar\n",
      "=========================\n",
      "Trying nl : (25, 4) ...\n",
      "=========================\n",
      "For : 111-nosymmetric-polar\n",
      "DK Previous is 4-111-nosymmetric-polar\n",
      "Checking :24 > 24\n",
      "=========================\n",
      "Trying nl : (28, 4) ...\n",
      "=========================\n",
      "For : 111-nosymmetric-polar\n",
      "DK Previous is 4-111-nosymmetric-polar\n",
      "Checking :24 > 24\n",
      "=========================\n",
      "Trying nl : (31, 4) ...\n",
      "=========================\n",
      "For : 111-nosymmetric-polar\n",
      "DK Previous is 4-111-nosymmetric-polar\n",
      "Checking :30 > 24\n",
      "Found for 5.......\n",
      "DK Next is 5-111-nosymmetric-polar\n",
      "=========================\n",
      "Trying nl : (34, 5) ...\n",
      "=========================\n",
      "For : 111-nosymmetric-polar\n",
      "DK Previous is 5-111-nosymmetric-polar\n",
      "Checking :30 > 30\n",
      "=========================\n",
      "Trying nl : (1, 1) ...\n",
      "=========================\n",
      "For : 110-symmetric-nonpolar\n",
      "DK Previous is 1-110-symmetric-nonpolar\n",
      "Checking :8 > 8\n",
      "=========================\n",
      "Trying nl : (4, 1) ...\n",
      "=========================\n",
      "For : 110-symmetric-nonpolar\n",
      "DK Previous is 1-110-symmetric-nonpolar\n",
      "Checking :8 > 8\n",
      "=========================\n",
      "Trying nl : (7, 1) ...\n",
      "=========================\n",
      "For : 110-symmetric-nonpolar\n",
      "DK Previous is 1-110-symmetric-nonpolar\n",
      "Checking :16 > 8\n",
      "Found for 2.......\n",
      "DK Next is 2-110-symmetric-nonpolar\n",
      "=========================\n",
      "Trying nl : (10, 2) ...\n",
      "=========================\n",
      "For : 110-symmetric-nonpolar\n",
      "DK Previous is 2-110-symmetric-nonpolar\n",
      "Checking :16 > 16\n",
      "=========================\n",
      "Trying nl : (13, 2) ...\n",
      "=========================\n",
      "For : 110-symmetric-nonpolar\n",
      "DK Previous is 2-110-symmetric-nonpolar\n",
      "Checking :24 > 16\n",
      "Found for 3.......\n",
      "DK Next is 3-110-symmetric-nonpolar\n",
      "=========================\n",
      "Trying nl : (16, 3) ...\n",
      "=========================\n",
      "For : 110-symmetric-nonpolar\n",
      "DK Previous is 3-110-symmetric-nonpolar\n",
      "Checking :24 > 24\n",
      "=========================\n",
      "Trying nl : (19, 3) ...\n",
      "=========================\n",
      "For : 110-symmetric-nonpolar\n",
      "DK Previous is 3-110-symmetric-nonpolar\n",
      "Checking :32 > 24\n",
      "Found for 4.......\n",
      "DK Next is 4-110-symmetric-nonpolar\n",
      "=========================\n",
      "Trying nl : (22, 4) ...\n",
      "=========================\n",
      "For : 110-symmetric-nonpolar\n",
      "DK Previous is 4-110-symmetric-nonpolar\n",
      "Checking :32 > 32\n",
      "=========================\n",
      "Trying nl : (25, 4) ...\n",
      "=========================\n",
      "For : 110-symmetric-nonpolar\n",
      "DK Previous is 4-110-symmetric-nonpolar\n",
      "Checking :40 > 32\n",
      "Found for 5.......\n",
      "DK Next is 5-110-symmetric-nonpolar\n",
      "=========================\n",
      "Trying nl : (28, 5) ...\n",
      "=========================\n",
      "For : 110-symmetric-nonpolar\n",
      "DK Previous is 5-110-symmetric-nonpolar\n",
      "Checking :40 > 40\n",
      "=========================\n",
      "Trying nl : (31, 5) ...\n",
      "=========================\n",
      "For : 110-symmetric-nonpolar\n",
      "DK Previous is 5-110-symmetric-nonpolar\n",
      "Checking :48 > 40\n",
      "Found for 6.......\n",
      "DK Next is 6-110-symmetric-nonpolar\n",
      "=========================\n",
      "Trying nl : (34, 6) ...\n",
      "=========================\n",
      "For : 110-symmetric-nonpolar\n",
      "DK Previous is 6-110-symmetric-nonpolar\n",
      "Checking :48 > 48\n",
      "=========================\n",
      "Trying nl : (1, 1) ...\n",
      "=========================\n",
      "For : 100-symmetric-nonpolar\n",
      "DK Previous is 1-100-symmetric-nonpolar\n",
      "Checking :4 > 4\n",
      "=========================\n",
      "Trying nl : (4, 1) ...\n",
      "=========================\n",
      "For : 100-symmetric-nonpolar\n",
      "DK Previous is 1-100-symmetric-nonpolar\n",
      "Checking :4 > 4\n",
      "=========================\n",
      "Trying nl : (7, 1) ...\n",
      "=========================\n",
      "For : 100-symmetric-nonpolar\n",
      "DK Previous is 1-100-symmetric-nonpolar\n",
      "Checking :8 > 4\n",
      "Found for 2.......\n",
      "DK Next is 2-100-symmetric-nonpolar\n",
      "=========================\n",
      "Trying nl : (10, 2) ...\n",
      "=========================\n",
      "For : 100-symmetric-nonpolar\n",
      "DK Previous is 2-100-symmetric-nonpolar\n",
      "Checking :12 > 8\n",
      "Found for 3.......\n",
      "DK Next is 3-100-symmetric-nonpolar\n",
      "=========================\n",
      "Trying nl : (13, 3) ...\n",
      "=========================\n",
      "For : 100-symmetric-nonpolar\n",
      "DK Previous is 3-100-symmetric-nonpolar\n",
      "Checking :16 > 12\n",
      "Found for 4.......\n",
      "DK Next is 4-100-symmetric-nonpolar\n",
      "=========================\n",
      "Trying nl : (16, 4) ...\n",
      "=========================\n",
      "For : 100-symmetric-nonpolar\n",
      "DK Previous is 4-100-symmetric-nonpolar\n",
      "Checking :16 > 16\n",
      "=========================\n",
      "Trying nl : (19, 4) ...\n",
      "=========================\n",
      "For : 100-symmetric-nonpolar\n",
      "DK Previous is 4-100-symmetric-nonpolar\n",
      "Checking :20 > 16\n",
      "Found for 5.......\n",
      "DK Next is 5-100-symmetric-nonpolar\n",
      "=========================\n",
      "Trying nl : (22, 5) ...\n",
      "=========================\n",
      "For : 100-symmetric-nonpolar\n",
      "DK Previous is 5-100-symmetric-nonpolar\n",
      "Checking :24 > 20\n",
      "Found for 6.......\n",
      "DK Next is 6-100-symmetric-nonpolar\n",
      "=========================\n",
      "Trying nl : (25, 6) ...\n",
      "=========================\n",
      "For : 100-symmetric-nonpolar\n",
      "DK Previous is 6-100-symmetric-nonpolar\n",
      "Checking :24 > 24\n",
      "=========================\n",
      "Trying nl : (28, 6) ...\n",
      "=========================\n",
      "For : 100-symmetric-nonpolar\n",
      "DK Previous is 6-100-symmetric-nonpolar\n",
      "Checking :28 > 24\n",
      "Found for 7.......\n",
      "DK Next is 7-100-symmetric-nonpolar\n",
      "=========================\n",
      "Trying nl : (31, 7) ...\n",
      "=========================\n",
      "For : 100-symmetric-nonpolar\n",
      "DK Previous is 7-100-symmetric-nonpolar\n",
      "Checking :32 > 28\n",
      "Found for 8.......\n",
      "DK Next is 8-100-symmetric-nonpolar\n",
      "=========================\n",
      "Trying nl : (34, 8) ...\n",
      "=========================\n",
      "For : 100-symmetric-nonpolar\n",
      "DK Previous is 8-100-symmetric-nonpolar\n",
      "Checking :36 > 32\n",
      "Found for 9.......\n",
      "DK Next is 9-100-symmetric-nonpolar\n",
      "Found until ==========> 9\n"
     ]
    }
   ],
   "source": [
    "S.Genarate_Slabs_Pymatgen_all_nl_NEW()"
   ]
  },
  {
   "cell_type": "code",
   "execution_count": 5,
   "id": "05a607de",
   "metadata": {},
   "outputs": [
    {
     "data": {
      "text/plain": [
       "{'1-111-nosymmetric-polar': <sisl.Geometry na=6, no=6, nsc=[1 1 1]>,\n",
       " '1-110-symmetric-nonpolar': <sisl.Geometry na=8, no=8, nsc=[1 1 1]>,\n",
       " '1-100-symmetric-nonpolar': <sisl.Geometry na=4, no=4, nsc=[1 1 1]>,\n",
       " '2-111-nosymmetric-polar': <sisl.Geometry na=12, no=12, nsc=[1 1 1]>,\n",
       " '3-111-nosymmetric-polar': <sisl.Geometry na=18, no=18, nsc=[1 1 1]>,\n",
       " '4-111-nosymmetric-polar': <sisl.Geometry na=24, no=24, nsc=[1 1 1]>,\n",
       " '5-111-nosymmetric-polar': <sisl.Geometry na=30, no=30, nsc=[1 1 1]>,\n",
       " '2-110-symmetric-nonpolar': <sisl.Geometry na=16, no=16, nsc=[1 1 1]>,\n",
       " '3-110-symmetric-nonpolar': <sisl.Geometry na=24, no=24, nsc=[1 1 1]>,\n",
       " '4-110-symmetric-nonpolar': <sisl.Geometry na=32, no=32, nsc=[1 1 1]>,\n",
       " '5-110-symmetric-nonpolar': <sisl.Geometry na=40, no=40, nsc=[1 1 1]>,\n",
       " '6-110-symmetric-nonpolar': <sisl.Geometry na=48, no=48, nsc=[1 1 1]>,\n",
       " '2-100-symmetric-nonpolar': <sisl.Geometry na=8, no=8, nsc=[1 1 1]>,\n",
       " '3-100-symmetric-nonpolar': <sisl.Geometry na=12, no=12, nsc=[1 1 1]>,\n",
       " '4-100-symmetric-nonpolar': <sisl.Geometry na=16, no=16, nsc=[1 1 1]>,\n",
       " '5-100-symmetric-nonpolar': <sisl.Geometry na=20, no=20, nsc=[1 1 1]>,\n",
       " '6-100-symmetric-nonpolar': <sisl.Geometry na=24, no=24, nsc=[1 1 1]>,\n",
       " '7-100-symmetric-nonpolar': <sisl.Geometry na=28, no=28, nsc=[1 1 1]>,\n",
       " '8-100-symmetric-nonpolar': <sisl.Geometry na=32, no=32, nsc=[1 1 1]>,\n",
       " '9-100-symmetric-nonpolar': <sisl.Geometry na=36, no=36, nsc=[1 1 1]>}"
      ]
     },
     "execution_count": 5,
     "metadata": {},
     "output_type": "execute_result"
    }
   ],
   "source": [
    "S.slabs_sisl"
   ]
  },
  {
   "cell_type": "code",
   "execution_count": 6,
   "id": "41abf736",
   "metadata": {},
   "outputs": [
    {
     "name": "stdout",
     "output_type": "stream",
     "text": [
      "1-111-nosymmetric-polar\n",
      "Top/Bottom Atom index : [1. 4.] \n",
      "Adding Suffix (surface) For Atom Index :(1) and Label :(Mg) \n",
      "Adding Suffix (surface) For Atom Index :(4) and Label :(O) \n",
      "1-110-symmetric-nonpolar\n",
      "Top/Bottom Atom index : [1. 2. 4. 6.] \n",
      "Adding Suffix (surface) For Atom Index :(1) and Label :(Mg) \n",
      "Adding Suffix (surface) For Atom Index :(2) and Label :(Mg) \n",
      "Adding Suffix (surface) For Atom Index :(4) and Label :(O) \n",
      "Adding Suffix (surface) For Atom Index :(6) and Label :(O) \n",
      "1-100-symmetric-nonpolar\n",
      "Top/Bottom Atom index : [0. 1. 2. 3.] \n",
      "Adding Suffix (surface) For Atom Index :(0) and Label :(Mg) \n",
      "Adding Suffix (surface) For Atom Index :(1) and Label :(Mg) \n",
      "Adding Suffix (surface) For Atom Index :(2) and Label :(O) \n",
      "Adding Suffix (surface) For Atom Index :(3) and Label :(O) \n",
      "2-111-nosymmetric-polar\n",
      "Top/Bottom Atom index : [4. 7.] \n",
      "Adding Suffix (surface) For Atom Index :(4) and Label :(Mg) \n",
      "Adding Suffix (surface) For Atom Index :(7) and Label :(O) \n",
      "3-111-nosymmetric-polar\n",
      "Top/Bottom Atom index : [ 7. 10.] \n",
      "Adding Suffix (surface) For Atom Index :(7) and Label :(Mg) \n",
      "Adding Suffix (surface) For Atom Index :(10) and Label :(O) \n",
      "4-111-nosymmetric-polar\n",
      "Top/Bottom Atom index : [10. 13.] \n",
      "Adding Suffix (surface) For Atom Index :(10) and Label :(Mg) \n",
      "Adding Suffix (surface) For Atom Index :(13) and Label :(O) \n",
      "5-111-nosymmetric-polar\n",
      "Top/Bottom Atom index : [13. 16.] \n",
      "Adding Suffix (surface) For Atom Index :(13) and Label :(Mg) \n",
      "Adding Suffix (surface) For Atom Index :(16) and Label :(O) \n",
      "2-110-symmetric-nonpolar\n",
      "Top/Bottom Atom index : [ 2.  5.  8. 14.] \n",
      "Adding Suffix (surface) For Atom Index :(2) and Label :(Mg) \n",
      "Adding Suffix (surface) For Atom Index :(5) and Label :(Mg) \n",
      "Adding Suffix (surface) For Atom Index :(8) and Label :(O) \n",
      "Adding Suffix (surface) For Atom Index :(14) and Label :(O) \n",
      "3-110-symmetric-nonpolar\n",
      "Top/Bottom Atom index : [ 2.  9. 12. 22.] \n",
      "Adding Suffix (surface) For Atom Index :(2) and Label :(Mg) \n",
      "Adding Suffix (surface) For Atom Index :(9) and Label :(Mg) \n",
      "Adding Suffix (surface) For Atom Index :(12) and Label :(O) \n",
      "Adding Suffix (surface) For Atom Index :(22) and Label :(O) \n",
      "4-110-symmetric-nonpolar\n",
      "Top/Bottom Atom index : [ 2. 13. 16. 30.] \n",
      "Adding Suffix (surface) For Atom Index :(2) and Label :(Mg) \n",
      "Adding Suffix (surface) For Atom Index :(13) and Label :(Mg) \n",
      "Adding Suffix (surface) For Atom Index :(16) and Label :(O) \n",
      "Adding Suffix (surface) For Atom Index :(30) and Label :(O) \n",
      "5-110-symmetric-nonpolar\n",
      "Top/Bottom Atom index : [ 2. 17. 20. 38.] \n",
      "Adding Suffix (surface) For Atom Index :(2) and Label :(Mg) \n",
      "Adding Suffix (surface) For Atom Index :(17) and Label :(Mg) \n",
      "Adding Suffix (surface) For Atom Index :(20) and Label :(O) \n",
      "Adding Suffix (surface) For Atom Index :(38) and Label :(O) \n",
      "6-110-symmetric-nonpolar\n",
      "Top/Bottom Atom index : [ 2. 21. 24. 46.] \n",
      "Adding Suffix (surface) For Atom Index :(2) and Label :(Mg) \n",
      "Adding Suffix (surface) For Atom Index :(21) and Label :(Mg) \n",
      "Adding Suffix (surface) For Atom Index :(24) and Label :(O) \n",
      "Adding Suffix (surface) For Atom Index :(46) and Label :(O) \n",
      "2-100-symmetric-nonpolar\n",
      "Top/Bottom Atom index : [1. 2. 4. 7.] \n",
      "Adding Suffix (surface) For Atom Index :(1) and Label :(Mg) \n",
      "Adding Suffix (surface) For Atom Index :(2) and Label :(Mg) \n",
      "Adding Suffix (surface) For Atom Index :(4) and Label :(O) \n",
      "Adding Suffix (surface) For Atom Index :(7) and Label :(O) \n",
      "3-100-symmetric-nonpolar\n",
      "Top/Bottom Atom index : [ 1.  4.  6. 11.] \n",
      "Adding Suffix (surface) For Atom Index :(1) and Label :(Mg) \n",
      "Adding Suffix (surface) For Atom Index :(4) and Label :(Mg) \n",
      "Adding Suffix (surface) For Atom Index :(6) and Label :(O) \n",
      "Adding Suffix (surface) For Atom Index :(11) and Label :(O) \n",
      "4-100-symmetric-nonpolar\n",
      "Top/Bottom Atom index : [ 1.  6.  8. 15.] \n",
      "Adding Suffix (surface) For Atom Index :(1) and Label :(Mg) \n",
      "Adding Suffix (surface) For Atom Index :(6) and Label :(Mg) \n",
      "Adding Suffix (surface) For Atom Index :(8) and Label :(O) \n",
      "Adding Suffix (surface) For Atom Index :(15) and Label :(O) \n",
      "5-100-symmetric-nonpolar\n",
      "Top/Bottom Atom index : [ 1.  8. 10. 19.] \n",
      "Adding Suffix (surface) For Atom Index :(1) and Label :(Mg) \n",
      "Adding Suffix (surface) For Atom Index :(8) and Label :(Mg) \n",
      "Adding Suffix (surface) For Atom Index :(10) and Label :(O) \n",
      "Adding Suffix (surface) For Atom Index :(19) and Label :(O) \n",
      "6-100-symmetric-nonpolar\n",
      "Top/Bottom Atom index : [ 1. 10. 12. 23.] \n",
      "Adding Suffix (surface) For Atom Index :(1) and Label :(Mg) \n",
      "Adding Suffix (surface) For Atom Index :(10) and Label :(Mg) \n",
      "Adding Suffix (surface) For Atom Index :(12) and Label :(O) \n",
      "Adding Suffix (surface) For Atom Index :(23) and Label :(O) \n",
      "7-100-symmetric-nonpolar\n",
      "Top/Bottom Atom index : [ 1. 12. 14. 27.] \n",
      "Adding Suffix (surface) For Atom Index :(1) and Label :(Mg) \n",
      "Adding Suffix (surface) For Atom Index :(12) and Label :(Mg) \n",
      "Adding Suffix (surface) For Atom Index :(14) and Label :(O) \n",
      "Adding Suffix (surface) For Atom Index :(27) and Label :(O) \n",
      "8-100-symmetric-nonpolar\n",
      "Top/Bottom Atom index : [ 1. 14. 16. 31.] \n",
      "Adding Suffix (surface) For Atom Index :(1) and Label :(Mg) \n",
      "Adding Suffix (surface) For Atom Index :(14) and Label :(Mg) \n",
      "Adding Suffix (surface) For Atom Index :(16) and Label :(O) \n",
      "Adding Suffix (surface) For Atom Index :(31) and Label :(O) \n",
      "9-100-symmetric-nonpolar\n",
      "Top/Bottom Atom index : [ 1. 16. 18. 35.] \n",
      "Adding Suffix (surface) For Atom Index :(1) and Label :(Mg) \n",
      "Adding Suffix (surface) For Atom Index :(16) and Label :(Mg) \n",
      "Adding Suffix (surface) For Atom Index :(18) and Label :(O) \n",
      "Adding Suffix (surface) For Atom Index :(35) and Label :(O) \n"
     ]
    }
   ],
   "source": [
    "S.Fixing_sisl_diffuse()"
   ]
  },
  {
   "cell_type": "code",
   "execution_count": 7,
   "id": "5f31c795",
   "metadata": {},
   "outputs": [
    {
     "name": "stdout",
     "output_type": "stream",
     "text": [
      "1-111-nosymmetric-polar\n",
      "1-110-symmetric-nonpolar\n",
      "1-100-symmetric-nonpolar\n",
      "2-111-nosymmetric-polar\n",
      "3-111-nosymmetric-polar\n",
      "4-111-nosymmetric-polar\n",
      "5-111-nosymmetric-polar\n",
      "2-110-symmetric-nonpolar\n",
      "3-110-symmetric-nonpolar\n",
      "4-110-symmetric-nonpolar\n",
      "5-110-symmetric-nonpolar\n",
      "6-110-symmetric-nonpolar\n",
      "2-100-symmetric-nonpolar\n",
      "3-100-symmetric-nonpolar\n",
      "4-100-symmetric-nonpolar\n",
      "5-100-symmetric-nonpolar\n",
      "6-100-symmetric-nonpolar\n",
      "7-100-symmetric-nonpolar\n",
      "8-100-symmetric-nonpolar\n",
      "9-100-symmetric-nonpolar\n"
     ]
    }
   ],
   "source": [
    "S.write_slabs(output_type=\"fdf\")"
   ]
  },
  {
   "cell_type": "code",
   "execution_count": null,
   "id": "7c6ae5e7",
   "metadata": {},
   "outputs": [],
   "source": [
    "S.Siesta_Surface_SISL"
   ]
  },
  {
   "cell_type": "code",
   "execution_count": null,
   "id": "5795b3ce",
   "metadata": {
    "scrolled": true
   },
   "outputs": [],
   "source": [
    "S.Genarate_Slabs_Pymatgen_all_nl()"
   ]
  },
  {
   "cell_type": "code",
   "execution_count": null,
   "id": "73e15838",
   "metadata": {},
   "outputs": [],
   "source": [
    "#S.slabs_sisl"
   ]
  },
  {
   "cell_type": "code",
   "execution_count": null,
   "id": "9c25d249",
   "metadata": {},
   "outputs": [],
   "source": [
    "from pymatgen.io.ase import AseAtomsAdaptor\n",
    "from pymatgen.core.surface import generate_all_slabs \n",
    "print (\"Generating Slabs Using PyMatgen Lib\")\n",
    "\n",
    "\n",
    "Pymatgen_Structure = AseAtomsAdaptor.get_structure(S.bulk_structure.toASE())"
   ]
  },
  {
   "cell_type": "code",
   "execution_count": null,
   "id": "937621b2",
   "metadata": {},
   "outputs": [],
   "source": [
    "slabs_pymatgen = {}\n",
    "slabs_ase = {}\n",
    "slabs_sisl = {}\n",
    "#nl = 35\n",
    "if S.oxidation_state_dict is not None:\n",
    "    Pymatgen_Structure.add_oxidation_state_by_element(S.oxidation_state_dict)\n",
    "else:\n",
    "    print(\"Cannot find polar structures... Continue\")\n",
    "layer = 1\n",
    "slab_temp = []\n",
    "slabgen_all = generate_all_slabs (structure = Pymatgen_Structure,\n",
    "                                  max_index = 1,\n",
    "                                  min_slab_size = 1 ,\n",
    "                                  min_vacuum_size = S.vacuum_amount ,\n",
    "                                  max_normal_search = True,\n",
    "                                  center_slab =True)\n",
    "for n, slab in enumerate(slabgen_all):\n",
    "    if slab.is_symmetric():\n",
    "        sym = \"symmetric\"\n",
    "    else:\n",
    "        sym = \"nosymmetric\"\n",
    "    if slab.is_polar():\n",
    "        pol = \"polar\"\n",
    "    else:\n",
    "        pol = \"nonpolar\"\n",
    "    k = str(slab.miller_index[0])+str(slab.miller_index[1])+str(slab.miller_index[2])+\"-\"+sym+\"-\"+pol\n",
    "    print(k)\n",
    "\n",
    "    slab_temp.append(k)\n",
    "    name = \"1-\"+k\n",
    "    slabs_pymatgen[name] = slab\n",
    "    slabs_ase [name]= AseAtomsAdaptor.get_atoms(slabs_pymatgen[name])\n",
    "    slabs_sisl [name]= sisl.Geometry.fromASE(slabs_ase[name])"
   ]
  },
  {
   "cell_type": "code",
   "execution_count": null,
   "id": "e45718dd",
   "metadata": {},
   "outputs": [],
   "source": [
    "slab_temp"
   ]
  },
  {
   "cell_type": "code",
   "execution_count": null,
   "id": "8883527b",
   "metadata": {
    "scrolled": true
   },
   "outputs": [],
   "source": [
    "key_in =slab_temp    \n",
    "#=================================================\n",
    "for li in key_in:\n",
    "    try_nl = 1\n",
    "    nl = 45\n",
    "    l=1\n",
    "    while try_nl <= nl:\n",
    "        print(\"=========================\")\n",
    "        print(f\"Trying nl : {try_nl,l} ...\")\n",
    "        print(\"=========================\")\n",
    "        slabgen_all = generate_all_slabs (structure = Pymatgen_Structure,\n",
    "                                          max_index = 1,\n",
    "                                          min_slab_size = try_nl ,\n",
    "                                          min_vacuum_size = S.vacuum_amount ,\n",
    "                                          max_normal_search = True,\n",
    "                                          center_slab =True)\n",
    "        for n, slab in enumerate(slabgen_all):\n",
    "            if slab.is_symmetric():\n",
    "                sym = \"symmetric\"\n",
    "            else:\n",
    "                sym = \"nosymmetric\"\n",
    "            if slab.is_polar():\n",
    "                pol = \"polar\"\n",
    "            else:\n",
    "                pol = \"nonpolar\"\n",
    "            k = str(slab.miller_index[0])+str(slab.miller_index[1])+str(slab.miller_index[2])+\"-\"+sym+\"-\"+pol        \n",
    "            #if slab_temp[0] == k:\n",
    "            if li == k:\n",
    "                print(f\"For : {k}\")\n",
    "                dk_previous = str(l)+\"-\"+k\n",
    "                print(f\"DK Previous is {dk_previous}\")\n",
    "                print(f\"Checking :{slab.num_sites} > {slabs_pymatgen[dk_previous].num_sites}\")\n",
    "                if slab.num_sites > slabs_pymatgen[dk_previous].num_sites:\n",
    "                    l=l+1\n",
    "                    dk_next = str(l)+\"-\"+k\n",
    "                    print(f\"Found for {l}.......\")  \n",
    "                    print(f\"DK Next is {dk_next}\")\n",
    "                    slabs_pymatgen[dk_next] = slab \n",
    "                    slabs_ase [dk_next]= AseAtomsAdaptor.get_atoms(slabs_pymatgen[dk_next])\n",
    "                    slabs_sisl [dk_next]= sisl.Geometry.fromASE(slabs_ase[dk_next])\n",
    "                    #break        \n",
    "\n",
    "            try_nl=try_nl+ 1            \n",
    "    print (f\"Found until ==========> {l}\")\n"
   ]
  },
  {
   "cell_type": "code",
   "execution_count": null,
   "id": "0a4fd26d",
   "metadata": {},
   "outputs": [],
   "source": [
    "slab_temp"
   ]
  },
  {
   "cell_type": "code",
   "execution_count": null,
   "id": "f939675d",
   "metadata": {},
   "outputs": [],
   "source": [
    "slabs_sisl"
   ]
  },
  {
   "cell_type": "code",
   "execution_count": null,
   "id": "856e4a3b",
   "metadata": {},
   "outputs": [],
   "source": [
    "slabs_pymatgen.keys()"
   ]
  },
  {
   "cell_type": "code",
   "execution_count": null,
   "id": "f2df37c6",
   "metadata": {
    "scrolled": true
   },
   "outputs": [],
   "source": [
    "def Found_nl(key_in):\n",
    "    \"\"\"\n",
    "    \"\"\"\n",
    "    try_nl = 1\n",
    "    nl = 35\n",
    "    l=1\n",
    "    while try_nl <= nl:\n",
    "        print(\"=========================\")\n",
    "        print(f\"Trying nl : {try_nl,l} ...\")\n",
    "        print(\"=========================\")\n",
    "        slabgen_all = generate_all_slabs (structure = Pymatgen_Structure,\n",
    "                                          max_index = 1,\n",
    "                                          min_slab_size = try_nl ,\n",
    "                                          min_vacuum_size = S.vacuum_amount ,\n",
    "                                          max_normal_search = True,\n",
    "                                          center_slab =True)\n",
    "        for n, slab in enumerate(slabgen_all):\n",
    "            if slab.is_symmetric():\n",
    "                sym = \"symmetric\"\n",
    "            else:\n",
    "                sym = \"nosymmetric\"\n",
    "            if slab.is_polar():\n",
    "                pol = \"polar\"\n",
    "            else:\n",
    "                pol = \"nonpolar\"\n",
    "            k = str(slab.miller_index[0])+str(slab.miller_index[1])+str(slab.miller_index[2])+\"-\"+sym+\"-\"+pol        \n",
    "            #if slab_temp[0] == k:\n",
    "            if key_in == k:\n",
    "                print(f\"For : {k}\")\n",
    "                dk_previous = str(l)+\"-\"+k\n",
    "                print(f\"DK Previous is {dk_previous}\")\n",
    "                print(f\"Checking :{slab.num_sites} > {slabs_pymatgen[dk_previous].num_sites}\")\n",
    "                if slab.num_sites > slabs_pymatgen[dk_previous].num_sites:\n",
    "                    l=l+1\n",
    "                    dk_next = str(l)+\"-\"+k\n",
    "                    print(f\"Found for {l}.......\")  \n",
    "                    print(f\"DK Next is {dk_next}\")\n",
    "                    slabs_pymatgen[dk_next] = slab \n",
    "                    slabs_ase [dk_next]= AseAtomsAdaptor.get_atoms(slabs_pymatgen[dk_next])\n",
    "                    slabs_sisl [dk_next]= sisl.Geometry.fromASE(slabs_ase[dk_next])\n",
    "                    #break        \n",
    "\n",
    "            try_nl=try_nl+ 1            \n",
    "    print (f\"Found until ==========> {l}\")\n",
    "\n",
    "\n"
   ]
  },
  {
   "cell_type": "code",
   "execution_count": null,
   "id": "66b4ca22",
   "metadata": {},
   "outputs": [],
   "source": [
    "def Found_nl(key_in):\n",
    "    \"\"\"\n",
    "    \"\"\"\n",
    "    for li in key_in:\n",
    "        try_nl = 1\n",
    "        nl = 35\n",
    "        l=1\n",
    "        while try_nl <= nl:\n",
    "            print(\"=========================\")\n",
    "            print(f\"Trying nl : {try_nl,l} ...\")\n",
    "            print(\"=========================\")\n",
    "            slabgen_all = generate_all_slabs (structure = Pymatgen_Structure,\n",
    "                                              max_index = 1,\n",
    "                                              min_slab_size = try_nl ,\n",
    "                                              min_vacuum_size = S.vacuum_amount ,\n",
    "                                              max_normal_search = True,\n",
    "                                              center_slab =True)\n",
    "            for n, slab in enumerate(slabgen_all):\n",
    "                if slab.is_symmetric():\n",
    "                    sym = \"symmetric\"\n",
    "                else:\n",
    "                    sym = \"nosymmetric\"\n",
    "                if slab.is_polar():\n",
    "                    pol = \"polar\"\n",
    "                else:\n",
    "                    pol = \"nonpolar\"\n",
    "                k = str(slab.miller_index[0])+str(slab.miller_index[1])+str(slab.miller_index[2])+\"-\"+sym+\"-\"+pol        \n",
    "                #if slab_temp[0] == k:\n",
    "                if li == k:\n",
    "                    print(f\"For : {k}\")\n",
    "                    dk_previous = str(l)+\"-\"+k\n",
    "                    print(f\"DK Previous is {dk_previous}\")\n",
    "                    print(f\"Checking :{slab.num_sites} > {slabs_pymatgen[dk_previous].num_sites}\")\n",
    "                    if slab.num_sites > slabs_pymatgen[dk_previous].num_sites:\n",
    "                        l=l+1\n",
    "                        dk_next = str(l)+\"-\"+k\n",
    "                        print(f\"Found for {l}.......\")  \n",
    "                        print(f\"DK Next is {dk_next}\")\n",
    "                        slabs_pymatgen[dk_next] = slab \n",
    "                        slabs_ase [dk_next]= AseAtomsAdaptor.get_atoms(slabs_pymatgen[dk_next])\n",
    "                        slabs_sisl [dk_next]= sisl.Geometry.fromASE(slabs_ase[dk_next])\n",
    "                        #break        \n",
    "\n",
    "                try_nl=try_nl+ 1            \n",
    "        print (f\"Found until ==========> {l}\")\n",
    "\n",
    "\n"
   ]
  },
  {
   "cell_type": "code",
   "execution_count": null,
   "id": "245d3d1a",
   "metadata": {},
   "outputs": [],
   "source": [
    "slab_temp[0]"
   ]
  },
  {
   "cell_type": "code",
   "execution_count": null,
   "id": "b6f30c8c",
   "metadata": {
    "scrolled": true
   },
   "outputs": [],
   "source": [
    "Found_nl(slab_temp)"
   ]
  },
  {
   "cell_type": "code",
   "execution_count": null,
   "id": "f578f2c3",
   "metadata": {},
   "outputs": [],
   "source": [
    "slabs_sisl"
   ]
  },
  {
   "cell_type": "code",
   "execution_count": null,
   "id": "ea4d4ffd",
   "metadata": {},
   "outputs": [],
   "source": [
    "slabs_sisl['3-111-nosymmetric-polar'].xyz"
   ]
  },
  {
   "cell_type": "code",
   "execution_count": null,
   "id": "b608a5e3",
   "metadata": {},
   "outputs": [],
   "source": [
    "slabs_sisl['4-111-nosymmetric-polar'].xyz"
   ]
  },
  {
   "cell_type": "code",
   "execution_count": null,
   "id": "5305ca05",
   "metadata": {},
   "outputs": [],
   "source": [
    "slabs_sisl"
   ]
  },
  {
   "cell_type": "code",
   "execution_count": null,
   "id": "28446c3f",
   "metadata": {
    "scrolled": true
   },
   "outputs": [],
   "source": [
    "for nl in range(1,S.number_of_layers+1):\n",
    "    print(f\"Debug: for {nl} layer slab\")\n",
    "    slabgen_all = generate_all_slabs (structure = Pymatgen_Structure,\n",
    "                                      max_index = 1,\n",
    "                                      min_slab_size = nl ,\n",
    "                                      min_vacuum_size = S.vacuum_amount ,\n",
    "                                      max_normal_search = True,\n",
    "                                      center_slab =True)\n",
    "    for n, slab in enumerate(slabgen_all):\n",
    "        if slab.is_symmetric():\n",
    "            sym = \"symmetric\"\n",
    "        else:\n",
    "            sym = \"nosymmetric\"\n",
    "        if slab.is_polar():\n",
    "            pol = \"polar\"\n",
    "        else:\n",
    "            pol = \"nonpolar\"\n",
    "        #print(f\"{n}\\n\",\n",
    "        #      f\"miller index:{slab.miller_index}\\n \"\n",
    "        #      f\"is Symmetric:{slab.is_symmetric()}\\n\" ,\n",
    "        #      f\"is Polar {slab.is_polar()}\\n\")\n",
    "\n",
    "        "
   ]
  },
  {
   "cell_type": "code",
   "execution_count": null,
   "id": "db76125d",
   "metadata": {},
   "outputs": [],
   "source": []
  },
  {
   "cell_type": "code",
   "execution_count": null,
   "id": "7ae0d942",
   "metadata": {},
   "outputs": [],
   "source": [
    "slab_temp['1-111-nosymmetric-polar'].num_sites"
   ]
  },
  {
   "cell_type": "code",
   "execution_count": null,
   "id": "a59cb93e",
   "metadata": {
    "scrolled": true
   },
   "outputs": [],
   "source": [
    "slabs_pymatgen = {}\n",
    "slabs_ase = {}\n",
    "slabs_sisl = {}\n",
    "layer = 1\n",
    "for k,v in slab_temp.items():\n",
    "    print(k)\n",
    "    if layer == 1:\n",
    "        print(\"Laye 1\")\n",
    "        name = str(nl)+\"-\"+str(slab.miller_index[0])+str(slab.miller_index[1])+str(slab.miller_index[2])+\"-\"+sym+\"-\"+pol\n",
    "        slabs_pymatgen [name]= slab_temp[k]\n",
    "        slabs_ase [name]= AseAtomsAdaptor.get_atoms(slabs_pymatgen[name])\n",
    "        slabs_sisl [name]= sisl.Geometry.fromASE(slabs_ase[name])\n",
    "        layer = layer +1  \n",
    "    if layer > 3 :\n",
    "        if slab_temp [k].num_sites > slabs_pymatgen[k].num_sites:\n",
    "            print(\"Checking if nl >1 is equal\")\n",
    "        else:\n",
    "            name = str(nl)+\"-\"+str(slab.miller_index[0])+str(slab.miller_index[1])+str(slab.miller_index[2])+\"-\"+sym+\"-\"+pol\n",
    "            print(\"Found ! nl >1 is equal\")\n",
    "            slabs_pymatgen [name]= slab_temp[k]\n",
    "            slabs_ase [name]= AseAtomsAdaptor.get_atoms(slabs_pymatgen[name])\n",
    "            slabs_sisl [name]= sisl.Geometry.fromASE(slabs_ase[name])\n",
    "        layer = layer +1  "
   ]
  },
  {
   "cell_type": "code",
   "execution_count": null,
   "id": "88c6f683",
   "metadata": {},
   "outputs": [],
   "source": [
    "slabs_sisl"
   ]
  },
  {
   "cell_type": "code",
   "execution_count": null,
   "id": "0bae2498",
   "metadata": {},
   "outputs": [],
   "source": [
    "for i,j in slab_tempa"
   ]
  },
  {
   "cell_type": "code",
   "execution_count": null,
   "id": "c7bc0b9d",
   "metadata": {},
   "outputs": [],
   "source": []
  },
  {
   "cell_type": "code",
   "execution_count": null,
   "id": "56f2fe03",
   "metadata": {},
   "outputs": [],
   "source": [
    "slabs_sisl['5-100-symmetric-nonpolar'].xyz"
   ]
  },
  {
   "cell_type": "code",
   "execution_count": null,
   "id": "83a4b5fa",
   "metadata": {},
   "outputs": [],
   "source": [
    "slabs_sisl"
   ]
  },
  {
   "cell_type": "code",
   "execution_count": null,
   "id": "0dedc881",
   "metadata": {},
   "outputs": [],
   "source": [
    "#S.Genarate_Slabs_Pymatgen()"
   ]
  },
  {
   "cell_type": "code",
   "execution_count": null,
   "id": "36e94ded",
   "metadata": {
    "scrolled": true
   },
   "outputs": [],
   "source": [
    "S.Genarate_Slabs_Pymatgen_all_nl()"
   ]
  },
  {
   "cell_type": "code",
   "execution_count": null,
   "id": "abd43236",
   "metadata": {},
   "outputs": [],
   "source": [
    "S.slabs_pymatgen.keys()"
   ]
  },
  {
   "cell_type": "code",
   "execution_count": null,
   "id": "f1f9ef54",
   "metadata": {},
   "outputs": [],
   "source": [
    "S.slabs_pymatgen['2-111-nosymmetric-polar']"
   ]
  },
  {
   "cell_type": "code",
   "execution_count": null,
   "id": "f7a2d1a3",
   "metadata": {
    "scrolled": true
   },
   "outputs": [],
   "source": [
    "S._slabgen_all[1]\n",
    "#S.slabs_sisl['1-111-nosymmetric-polar'].xyz"
   ]
  },
  {
   "cell_type": "code",
   "execution_count": null,
   "id": "4beb36f9",
   "metadata": {},
   "outputs": [],
   "source": [
    "a=S.Fixing_sisl_diffuse()"
   ]
  },
  {
   "cell_type": "code",
   "execution_count": null,
   "id": "3083d13e",
   "metadata": {},
   "outputs": [],
   "source": [
    "S.Siesta_Surface_SISL"
   ]
  },
  {
   "cell_type": "code",
   "execution_count": null,
   "id": "a72b06b0",
   "metadata": {},
   "outputs": [],
   "source": [
    "a['1-111-nosymmetric-polar'].write('test-1.fdf')"
   ]
  },
  {
   "cell_type": "code",
   "execution_count": null,
   "id": "f0e4cfba",
   "metadata": {},
   "outputs": [],
   "source": [
    "a['4-100-symmetric-nonpolar']."
   ]
  },
  {
   "cell_type": "code",
   "execution_count": null,
   "id": "985eca3f",
   "metadata": {},
   "outputs": [],
   "source": [
    "S.Siesta_Surface_SISL['5-111-nosymmetric-polar'].write(\"test-5.fdf\")"
   ]
  },
  {
   "cell_type": "code",
   "execution_count": null,
   "id": "635dfd0a",
   "metadata": {},
   "outputs": [],
   "source": [
    "#S.write_slabs()"
   ]
  },
  {
   "cell_type": "code",
   "execution_count": null,
   "id": "141796ba",
   "metadata": {},
   "outputs": [],
   "source": [
    "#S.prepare_slab_relaxation()"
   ]
  },
  {
   "cell_type": "code",
   "execution_count": null,
   "id": "92f2ce19",
   "metadata": {},
   "outputs": [],
   "source": [
    "a=S.read_result_info_dir(json_info_file='slabs_info.json',folder_path = \"here\", result_path = \"result-cg-0\")"
   ]
  },
  {
   "cell_type": "code",
   "execution_count": null,
   "id": "592966cc",
   "metadata": {},
   "outputs": [],
   "source": [
    "a"
   ]
  },
  {
   "cell_type": "code",
   "execution_count": null,
   "id": "322a3ae2",
   "metadata": {},
   "outputs": [],
   "source": [
    "S.slabs_sisl"
   ]
  },
  {
   "cell_type": "code",
   "execution_count": null,
   "id": "6c686c87",
   "metadata": {},
   "outputs": [],
   "source": [
    "def Fixing_slabs_sisl_diffuse(slabs):\n",
    "    \"\"\"\n",
    "    \"\"\"\n",
    "    Siesta_Surface_SISL = {}\n",
    "    from toolbox.siesta.surfaces.Utils.utils import AddingSurfaceSpeciesSuffix\n",
    "    from toolbox.siesta.surfaces.Utils.utils import FindingSurfaceAtomIndex\n",
    "    from toolbox.siesta.surfaces.Utils.utils import FixingSislWithIndex\n",
    "    \n",
    "    for k,v in slabs.slabs_sisl.items():\n",
    "        print(k)\n",
    "        SurfaceIndexes = FindingSurfaceAtomIndex(slabs.slabs_sisl[k],2)\n",
    "        Species = AddingSurfaceSpeciesSuffix(ASEStructure = slabs.slabs_ase[k],\n",
    "                                             SurfaceIndex = SurfaceIndexes,\n",
    "                                             SuffixName=slabs.name_of_surface_species)\n",
    "\n",
    "        if slabs.type_of_surface_species == \"diffuse\":\n",
    "                Siesta_Surface_SISL [k] = FixingSislWithIndex(slabs.slabs_sisl[k],Species)\n",
    "\n",
    "    return Siesta_Surface_SISL"
   ]
  },
  {
   "cell_type": "code",
   "execution_count": null,
   "id": "d0ac6f89",
   "metadata": {},
   "outputs": [],
   "source": [
    "a=Fixing_slabs_sisl_diffuse(S)"
   ]
  },
  {
   "cell_type": "code",
   "execution_count": null,
   "id": "a7ac8fca",
   "metadata": {},
   "outputs": [],
   "source": [
    "a['1-111-nosymmetric-polar'].write(\"test-1.fdf\")"
   ]
  },
  {
   "cell_type": "code",
   "execution_count": null,
   "id": "faa12664",
   "metadata": {},
   "outputs": [],
   "source": [
    "from toolbox.siesta.surfaces.Utils.utils import AddingSurfaceSpeciesSuffix,FindingSurfaceAtomIndex,FixingSislWithIndex\n"
   ]
  },
  {
   "cell_type": "code",
   "execution_count": null,
   "id": "2674c2ee",
   "metadata": {},
   "outputs": [],
   "source": [
    "SurfaceIndexes = FindingSurfaceAtomIndex(S.slabs_sisl['1-111-nosymmetric-polar'],2)"
   ]
  },
  {
   "cell_type": "code",
   "execution_count": null,
   "id": "15a61b75",
   "metadata": {},
   "outputs": [],
   "source": [
    "Species = AddingSurfaceSpeciesSuffix(ASEStructure=S.slabs_ase['1-111-nosymmetric-polar'],\n",
    "                                     SurfaceIndex=SurfaceIndexes,\n",
    "                                     SuffixName=S.name_of_surface_species)"
   ]
  },
  {
   "cell_type": "code",
   "execution_count": null,
   "id": "f68dada5",
   "metadata": {},
   "outputs": [],
   "source": [
    "#Species"
   ]
  },
  {
   "cell_type": "code",
   "execution_count": null,
   "id": "174127d1",
   "metadata": {},
   "outputs": [],
   "source": [
    "S.slabs_ase['1-111-nosymmetric-polar']\n",
    "#S.name_of_surface_species"
   ]
  },
  {
   "cell_type": "code",
   "execution_count": null,
   "id": "a47ba18b",
   "metadata": {},
   "outputs": [],
   "source": [
    "Fixing_slabs_sisl_diffuse(S)"
   ]
  },
  {
   "cell_type": "code",
   "execution_count": null,
   "id": "37004eac",
   "metadata": {},
   "outputs": [],
   "source": []
  },
  {
   "cell_type": "code",
   "execution_count": null,
   "id": "91bdc732",
   "metadata": {},
   "outputs": [],
   "source": [
    "def write_slabs(slabs,which_type='sisl',output_type = \"XSF\",folder_name='./slabs'):\n",
    "    \"\"\"\n",
    "    \"\"\"\n",
    "    import json\n",
    "    import pathlib , os\n",
    "    for_json = []\n",
    "    Folder = pathlib.Path(folder_name)\n",
    "    if Folder.exists():\n",
    "        print(\"Folder Exist ... Pass\")\n",
    "    else:\n",
    "        os.mkdir(Folder)\n",
    "        for k,v in slabs.slabs_sisl.items():\n",
    "            print(k)\n",
    "            file_name = k\n",
    "            for_json.append(file_name)\n",
    "            if which_type == \"sisl\":\n",
    "                compelete_name = file_name+\".\"+output_type\n",
    "                slabs.slabs_sisl[k].write(Folder/compelete_name)\n",
    "    \n",
    "    with open(\"info.json\",\"w\") as outfile:\n",
    "        json.dump(for_json,outfile,indent=1)\n"
   ]
  },
  {
   "cell_type": "code",
   "execution_count": null,
   "id": "0f2282e8",
   "metadata": {},
   "outputs": [],
   "source": [
    "write_slabs(S)"
   ]
  },
  {
   "cell_type": "code",
   "execution_count": null,
   "id": "97615831",
   "metadata": {},
   "outputs": [],
   "source": []
  },
  {
   "cell_type": "code",
   "execution_count": null,
   "id": "8ebd15d0",
   "metadata": {},
   "outputs": [],
   "source": [
    "def read_result_info_dir(json_info_file,folder_path ,result_path):\n",
    "    \"\"\"\n",
    "    \"\"\"\n",
    "    import json\n",
    "    import pathlib\n",
    "    slabs_dir_info = {}\n",
    "    with open (json_info_file,\"r\") as jsonfile:\n",
    "        data = json.load(jsonfile)\n",
    "    for i in data:\n",
    "        full_path = f\"{folder_path}/{i}/{result_path}\"\n",
    "        print(full_path)\n",
    "        slabs_dir_info[i] = pathlib.Path(full_path)\n",
    "    return slabs_dir_info"
   ]
  },
  {
   "cell_type": "code",
   "execution_count": null,
   "id": "fdae6c39",
   "metadata": {},
   "outputs": [],
   "source": [
    "a=read_result_info_dir(json_info_file='slabs_info.json',folder_path = \"here\", result_path = \"result-cg-0\")"
   ]
  },
  {
   "cell_type": "code",
   "execution_count": null,
   "id": "be033f37",
   "metadata": {},
   "outputs": [],
   "source": [
    "a['1-111-nosymmetric-polar'].absolute"
   ]
  },
  {
   "cell_type": "code",
   "execution_count": null,
   "id": "0ef9de76",
   "metadata": {},
   "outputs": [],
   "source": [
    "def prepare_slab_relaxation(slabs):\n",
    "    \"\"\"\n",
    "    \"\"\"\n",
    "    import pathlib , os\n",
    "    for k,v in slabs.slabs_sisl.items():\n",
    "        print(k)\n",
    "        Folder_name = pathlib.Path(k)\n",
    "        os.mkdir(Folder_name)\n",
    "        name = Folder_name/\"input.fdf\"\n",
    "        slabs.slabs_sisl[k].write(name)"
   ]
  },
  {
   "cell_type": "code",
   "execution_count": null,
   "id": "1c852b4a",
   "metadata": {},
   "outputs": [],
   "source": [
    "prepare_slab_relaxation(S)"
   ]
  },
  {
   "cell_type": "code",
   "execution_count": null,
   "id": "00bd7260",
   "metadata": {},
   "outputs": [],
   "source": [
    "S.slabs_sisl['1-111-nosymmetric-nonpolar']"
   ]
  },
  {
   "cell_type": "code",
   "execution_count": null,
   "id": "9a4f51e6",
   "metadata": {},
   "outputs": [],
   "source": [
    "from pymatgen.io.ase import AseAtomsAdaptor"
   ]
  },
  {
   "cell_type": "code",
   "execution_count": null,
   "id": "fc36b98d",
   "metadata": {},
   "outputs": [],
   "source": [
    "slab_ase = AseAtomsAdaptor.get_atoms(S.slabs['1-100-symmetric-nonpolar'])"
   ]
  },
  {
   "cell_type": "code",
   "execution_count": null,
   "id": "7830e43a",
   "metadata": {},
   "outputs": [],
   "source": [
    "slab_ase"
   ]
  },
  {
   "cell_type": "code",
   "execution_count": null,
   "id": "b1796f9c",
   "metadata": {},
   "outputs": [],
   "source": [
    "sisl.Geometry.fromASE(slab_ase)"
   ]
  },
  {
   "cell_type": "code",
   "execution_count": null,
   "id": "402c7a4d",
   "metadata": {},
   "outputs": [],
   "source": [
    "S.slabs['1-100-symmetric-nonpolar']"
   ]
  },
  {
   "cell_type": "code",
   "execution_count": null,
   "id": "1d81420a",
   "metadata": {},
   "outputs": [],
   "source": [
    "S._All_slabs[0].is_symmetric()"
   ]
  },
  {
   "cell_type": "code",
   "execution_count": null,
   "id": "3730cc69",
   "metadata": {},
   "outputs": [],
   "source": [
    "from pymatgen.io.ase import AseAtomsAdaptor"
   ]
  },
  {
   "cell_type": "code",
   "execution_count": null,
   "id": "7910ab41",
   "metadata": {},
   "outputs": [],
   "source": [
    "Pymatgen_Structure = AseAtomsAdaptor.get_structure(S.bulk_structure.toASE())"
   ]
  },
  {
   "cell_type": "code",
   "execution_count": null,
   "id": "1b44ea96",
   "metadata": {},
   "outputs": [],
   "source": [
    "from pymatgen.core.surface import generate_all_slabs"
   ]
  },
  {
   "cell_type": "code",
   "execution_count": null,
   "id": "31931e14",
   "metadata": {},
   "outputs": [],
   "source": [
    "slabgen_all = generate_all_slabs (structure=Pymatgen_Structure,\n",
    "                        max_index=1,\n",
    "                        min_slab_size=6,\n",
    "                        min_vacuum_size=10,\n",
    "                        max_normal_search=True,\n",
    "                        center_slab=True)"
   ]
  },
  {
   "cell_type": "code",
   "execution_count": null,
   "id": "6a4a19ef",
   "metadata": {},
   "outputs": [],
   "source": [
    "for n, slab in enumerate(slabgen_all):\n",
    "    slab.to('xsf',f'MgO_slab{n}.xsf')"
   ]
  },
  {
   "cell_type": "code",
   "execution_count": null,
   "id": "fc5f7e7f",
   "metadata": {},
   "outputs": [],
   "source": [
    "slabgen_all"
   ]
  },
  {
   "cell_type": "code",
   "execution_count": null,
   "id": "a2aa7d1c",
   "metadata": {
    "scrolled": true
   },
   "outputs": [],
   "source": [
    "nl=15\n",
    "slabs_pymatgen ={}\n",
    "slabs_ase = {}\n",
    "slabs_sisl = {}\n",
    "for nl in range(1,nl+1):\n",
    "    print(\"==========================\")\n",
    "    print(f\"for number of layer {nl}\")\n",
    "    print(\"==========================\")\n",
    "    slabgen_all = generate_all_slabs (structure=Pymatgen_Structure,\n",
    "                            max_index=1,\n",
    "                            min_slab_size=nl,\n",
    "                            min_vacuum_size=20,\n",
    "                            max_normal_search=True,\n",
    "                            center_slab=True)\n",
    "    \n",
    "    for n, slab in enumerate(slabgen_all):\n",
    "        #print\n",
    "        if slab.is_symmetric():\n",
    "            sym = \"symmetric\"\n",
    "        else:\n",
    "            sym = \"nosymmetric\"\n",
    "        if slab.is_polar():\n",
    "            pol = \"polar\"\n",
    "        else:\n",
    "            pol = \"nonpolar\"\n",
    "        #print(#f\"{n}\\n\",\n",
    "        #      f\"miller index:{slab.miller_index}\\n \"\n",
    "        #      f\"is Symmetric:{slab.is_symmetric()}\\n\" ,\n",
    "        #      f\"is Polar {slab.is_polar()}\\n\"\n",
    "        #)\n",
    "        k = str(nl)+\"-\"+str(slab.miller_index[0])+str(slab.miller_index[1])+str(slab.miller_index[2])+\"-\"+sym+\"-\"+pol\n",
    "        print(k)\n",
    "\n",
    "\n",
    "        slabs_pymatgen [k]= slab\n",
    "        slabs_ase [k]= AseAtomsAdaptor.get_atoms(slabs_pymatgen[k])\n",
    "        slabs_sisl [k]= sisl.Geometry.fromASE(slabs_ase[k])\n",
    "\n"
   ]
  },
  {
   "cell_type": "code",
   "execution_count": null,
   "id": "07682074",
   "metadata": {},
   "outputs": [],
   "source": [
    "slabs_sisl['6-111-nosymmetric-nonpolar'].xyz"
   ]
  },
  {
   "cell_type": "code",
   "execution_count": null,
   "id": "0eff966e",
   "metadata": {
    "scrolled": true
   },
   "outputs": [],
   "source": [
    "slabs_pymatgen['8-111-nosymmetric-nonpolar'].num_sites"
   ]
  },
  {
   "cell_type": "code",
   "execution_count": null,
   "id": "9b8740c6",
   "metadata": {},
   "outputs": [],
   "source": [
    "for n, slab in enumerate(all_slabs):\n",
    "    print(n,f\"is Symmetric:{slab.is_symmetric()}\" , f\"is Polar {slab.is_polar()}\")"
   ]
  },
  {
   "cell_type": "code",
   "execution_count": null,
   "id": "5d205361",
   "metadata": {},
   "outputs": [],
   "source": [
    "for n, slab in enumerate(all_slabs):\n",
    "    slab.to('xsf',f'MgO_slab{n}.xsf')"
   ]
  },
  {
   "cell_type": "code",
   "execution_count": null,
   "id": "160e613c",
   "metadata": {},
   "outputs": [],
   "source": [
    "#all_slabs[0]\n",
    "from pymatgen.core.surface import SlabGenerator"
   ]
  },
  {
   "cell_type": "code",
   "execution_count": null,
   "id": "c341ed44",
   "metadata": {},
   "outputs": [],
   "source": [
    "slabgen = SlabGenerator (initial_structure=Pymatgen_Structure,\n",
    "                     miller_index=(1,1,1),\n",
    "                     min_slab_size=13.0,\n",
    "                     min_vacuum_size=1,\n",
    "                     primitive=True,\n",
    "                     in_unit_planes=True,\n",
    "                     max_normal_search=True)"
   ]
  },
  {
   "cell_type": "code",
   "execution_count": null,
   "id": "727052f2",
   "metadata": {
    "scrolled": true
   },
   "outputs": [],
   "source": [
    "slabgen.get_slab()"
   ]
  },
  {
   "cell_type": "code",
   "execution_count": null,
   "id": "e7ad9e25",
   "metadata": {},
   "outputs": [],
   "source": [
    "slabgen.get_slab().to(\"xsf\",\"test.XSF\")"
   ]
  },
  {
   "cell_type": "code",
   "execution_count": null,
   "id": "3d8ca5b5",
   "metadata": {},
   "outputs": [],
   "source": []
  }
 ],
 "metadata": {
  "kernelspec": {
   "display_name": "Python 3 (ipykernel)",
   "language": "python",
   "name": "python3"
  },
  "language_info": {
   "codemirror_mode": {
    "name": "ipython",
    "version": 3
   },
   "file_extension": ".py",
   "mimetype": "text/x-python",
   "name": "python",
   "nbconvert_exporter": "python",
   "pygments_lexer": "ipython3",
   "version": "3.8.10"
  }
 },
 "nbformat": 4,
 "nbformat_minor": 5
}
