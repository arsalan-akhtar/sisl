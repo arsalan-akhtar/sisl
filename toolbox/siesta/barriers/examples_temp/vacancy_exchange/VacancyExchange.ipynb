{
 "cells": [
  {
   "cell_type": "code",
   "execution_count": 15,
   "id": "68911e4b",
   "metadata": {},
   "outputs": [],
   "source": [
    "from toolbox.siesta.barriers import VacancyExchangeNEB "
   ]
  },
  {
   "cell_type": "code",
   "execution_count": 16,
   "id": "09dc6d1b",
   "metadata": {},
   "outputs": [],
   "source": [
    "import numpy as np\n",
    "import sisl \n",
    "host= sisl.get_sile('./MgO-sheet.fdf').read_geometry()"
   ]
  },
  {
   "cell_type": "code",
   "execution_count": 28,
   "id": "28c1546b",
   "metadata": {},
   "outputs": [
    {
     "name": "stdout",
     "output_type": "stream",
     "text": [
      "DEBUG: image-0-relaxed/results image-9-relaxed/results input.fdf input.fdf\n",
      "=================================================\n",
      "The Initial Vacancy Exchange Image Generation ...\n",
      "=================================================\n",
      "The Atom Index is (1) and Position is ([3.300000e-07 1.918308e+00 1.750000e+01])\n",
      "The Atom Index is (17) and Position is ([ 3.32260733  1.918308   17.5       ])\n",
      "DEBUG: Removing Vacancies !\n",
      "DEBUG: Removing Atom with index (1) for Initial Structure\n",
      "DEBUG: Removing Atom with index (17) for Final Structure\n",
      "Order : Final Atom Position > Initial Atom Position\n"
     ]
    }
   ],
   "source": [
    "A=VacancyExchangeNEB(pristine_structure=host,\n",
    "                     initial_vacancy_position=np.array([0.00000033,  1.91830800, 17.50000000]),\n",
    "                     final_vacancy_position=np.array([3.32260733,  1.91830800, 17.50000000]),\n",
    "                     interpolation_method='idpp',\n",
    "                     relaxed=False,\n",
    "                     number_of_images=7,\n",
    "                     initial_relaxed_path='./image-0-relaxed/results/',\n",
    "                     initial_relaxed_fdf_name='input.fdf',\n",
    "                     final_relaxed_path = './image-9-relaxed/results/',\n",
    "                     final_relaxed_fdf_name='input.fdf',\n",
    "                    moving=True,\n",
    "                    ghost=True,\n",
    "                    )"
   ]
  },
  {
   "cell_type": "code",
   "execution_count": 29,
   "id": "42492aea",
   "metadata": {},
   "outputs": [],
   "source": [
    "#A.final_relaxed_path = './image-9/results/'\n",
    "#A.final_relaxed_path"
   ]
  },
  {
   "cell_type": "code",
   "execution_count": 30,
   "id": "d436faa9",
   "metadata": {},
   "outputs": [],
   "source": [
    "#A.initial_relaxed_path = './image-0/results/'\n",
    "#A.initial_relaxed_path"
   ]
  },
  {
   "cell_type": "code",
   "execution_count": 31,
   "id": "ebb633cb",
   "metadata": {},
   "outputs": [
    {
     "name": "stdout",
     "output_type": "stream",
     "text": [
      "Copying ASE For NEB Image  0 (initial)\n",
      "Copying ASE For NEB Image  1\n",
      "Copying ASE For NEB Image  2\n",
      "Copying ASE For NEB Image  3\n",
      "Copying ASE For NEB Image  4\n",
      "Copying ASE For NEB Image  5\n",
      "Copying ASE For NEB Image  6\n",
      "Copying ASE For NEB Image  7\n",
      "Copying ASE For NEB Image  8 final\n",
      " Adding Ghost for image 0 in Sisl Geometry Object for initial \n",
      " Adding Ghost for image 0 in Sisl Geometry Object for final \n",
      " Adding Ghost for image 1 in Sisl Geometry Object for initial \n",
      " Adding Ghost for image 1 in Sisl Geometry Object for final \n",
      " Adding Ghost for image 2 in Sisl Geometry Object for initial \n",
      " Adding Ghost for image 2 in Sisl Geometry Object for final \n",
      " Adding Ghost for image 3 in Sisl Geometry Object for initial \n",
      " Adding Ghost for image 3 in Sisl Geometry Object for final \n",
      " Adding Ghost for image 4 in Sisl Geometry Object for initial \n",
      " Adding Ghost for image 4 in Sisl Geometry Object for final \n",
      " Adding Ghost for image 5 in Sisl Geometry Object for initial \n",
      " Adding Ghost for image 5 in Sisl Geometry Object for final \n",
      " Adding Ghost for image 6 in Sisl Geometry Object for initial \n",
      " Adding Ghost for image 6 in Sisl Geometry Object for final \n",
      " Adding Ghost for image 7 in Sisl Geometry Object for initial \n",
      " Adding Ghost for image 7 in Sisl Geometry Object for final \n",
      " Adding Ghost for image 8 in Sisl Geometry Object for initial \n",
      " Adding Ghost for image 8 in Sisl Geometry Object for final \n"
     ]
    }
   ],
   "source": [
    "A.prepare_vacancy_exchange_images()\n"
   ]
  },
  {
   "cell_type": "code",
   "execution_count": 32,
   "id": "9a9f450f",
   "metadata": {},
   "outputs": [
    {
     "name": "stdout",
     "output_type": "stream",
     "text": [
      "Number of Ghost 1 and index is 17\n",
      "Number of Ghost 2 and index is 18\n",
      "Number of Ghost 1 and index is 17\n",
      "Number of Ghost 2 and index is 18\n"
     ]
    }
   ],
   "source": [
    "A.prepare_endpoint_relaxation()"
   ]
  },
  {
   "cell_type": "code",
   "execution_count": 14,
   "id": "282c4fbc",
   "metadata": {},
   "outputs": [
    {
     "name": "stdout",
     "output_type": "stream",
     "text": [
      "DEBUG: neb\n",
      "DEBUG: ['image']\n",
      "DEBUG: [True, True, True, True, True, True, True, True, True]\n",
      "DEBUG: 0 True\n",
      "DEBUG: ['image-0.xyz']\n",
      "DEBUG: neb/image-0.xyz\n",
      "DEBUG: 1 True\n",
      "DEBUG: ['image-1.xyz']\n",
      "DEBUG: neb/image-1.xyz\n",
      "DEBUG: 2 True\n",
      "DEBUG: ['image-2.xyz']\n",
      "DEBUG: neb/image-2.xyz\n",
      "DEBUG: 3 True\n",
      "DEBUG: ['image-3.xyz']\n",
      "DEBUG: neb/image-3.xyz\n",
      "DEBUG: 4 True\n",
      "DEBUG: ['image-4.xyz']\n",
      "DEBUG: neb/image-4.xyz\n",
      "DEBUG: 5 True\n",
      "DEBUG: ['image-5.xyz']\n",
      "DEBUG: neb/image-5.xyz\n",
      "DEBUG: 6 True\n",
      "DEBUG: ['image-6.xyz']\n",
      "DEBUG: neb/image-6.xyz\n",
      "DEBUG: 7 True\n",
      "DEBUG: ['image-7.xyz']\n",
      "DEBUG: neb/image-7.xyz\n",
      "DEBUG: 8 True\n",
      "DEBUG: ['image-8.xyz']\n",
      "DEBUG: neb/image-8.xyz\n",
      "DEBUG: neb/input.fdf\n",
      "DEBUG: Initial SystemLable is siesta.DM\n",
      "DEBUG: Final SystemLable is siesta.DM\n"
     ]
    }
   ],
   "source": [
    "A.prepare_neb(overwrite=True)"
   ]
  },
  {
   "cell_type": "code",
   "execution_count": null,
   "id": "c090b9dd",
   "metadata": {},
   "outputs": [],
   "source": []
  }
 ],
 "metadata": {
  "kernelspec": {
   "display_name": "Python 3 (ipykernel)",
   "language": "python",
   "name": "python3"
  },
  "language_info": {
   "codemirror_mode": {
    "name": "ipython",
    "version": 3
   },
   "file_extension": ".py",
   "mimetype": "text/x-python",
   "name": "python",
   "nbconvert_exporter": "python",
   "pygments_lexer": "ipython3",
   "version": "3.8.10"
  }
 },
 "nbformat": 4,
 "nbformat_minor": 5
}
