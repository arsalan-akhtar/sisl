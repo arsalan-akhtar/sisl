{
 "cells": [
  {
   "cell_type": "code",
   "execution_count": 1,
   "id": "9746ca64",
   "metadata": {},
   "outputs": [],
   "source": [
    "import sisl\n",
    "from toolbox.siesta.barriers import ManualNEB"
   ]
  },
  {
   "cell_type": "code",
   "execution_count": 2,
   "id": "874f1d39",
   "metadata": {},
   "outputs": [
    {
     "name": "stderr",
     "output_type": "stream",
     "text": [
      "warn:0: SislWarning: number of supercells could not be read from output files. Assuming molecule cell (no supercell connections)\n",
      "warn:0: SislWarning: number of supercells could not be read from output files. Assuming molecule cell (no supercell connections)\n"
     ]
    }
   ],
   "source": [
    "# if Results Folder is there\n",
    "initial = sisl.get_sile('./1/results/input.fdf').read_geometry(output=True)\n",
    "final = sisl.get_sile('./2/results/input.fdf').read_geometry(output=True)\n",
    "# if using fdf\n",
    "#initial= sisl.get_sile(\"1.fdf\").read_geometry(output=False)\n",
    "#final= sisl.get_sile(\"2.fdf\").read_geometry(output=False)\n",
    "#initial= sisl.get_sile(\"1-wog.fdf\").read_geometry(output=False)\n",
    "#final= sisl.get_sile(\"2-wog.fdf\").read_geometry(output=False)"
   ]
  },
  {
   "cell_type": "code",
   "execution_count": null,
   "id": "7880d448",
   "metadata": {},
   "outputs": [],
   "source": [
    "a=ManualNEB(\n",
    "            number_of_images=9,\n",
    "            interpolation_method='idpp',\n",
    "            initial_structure=initial,\n",
    "            final_structure=final,\n",
    "            initial_relaxed_path='1/results',\n",
    "            final_relaxed_path='2/results',\n",
    "            neb_path='neb.9i'\n",
    "           )"
   ]
  },
  {
   "cell_type": "code",
   "execution_count": null,
   "id": "1a320b3b",
   "metadata": {},
   "outputs": [],
   "source": [
    "a.prepare_manual_images()"
   ]
  },
  {
   "cell_type": "code",
   "execution_count": null,
   "id": "3a2e8793",
   "metadata": {},
   "outputs": [],
   "source": [
    "a.prepare_neb(overwrite=True)"
   ]
  }
 ],
 "metadata": {
  "kernelspec": {
   "display_name": "Python 3 (ipykernel)",
   "language": "python",
   "name": "python3"
  },
  "language_info": {
   "codemirror_mode": {
    "name": "ipython",
    "version": 3
   },
   "file_extension": ".py",
   "mimetype": "text/x-python",
   "name": "python",
   "nbconvert_exporter": "python",
   "pygments_lexer": "ipython3",
   "version": "3.8.10"
  }
 },
 "nbformat": 4,
 "nbformat_minor": 5
}
