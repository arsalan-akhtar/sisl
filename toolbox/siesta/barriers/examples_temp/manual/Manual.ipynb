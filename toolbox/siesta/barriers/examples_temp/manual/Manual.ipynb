{
 "cells": [
  {
   "cell_type": "code",
   "execution_count": 1,
   "id": "9746ca64",
   "metadata": {},
   "outputs": [],
   "source": [
    "import sisl\n",
    "from toolbox.siesta.barriers import ManualNEB"
   ]
  },
  {
   "cell_type": "code",
   "execution_count": 2,
   "id": "874f1d39",
   "metadata": {},
   "outputs": [
    {
     "name": "stderr",
     "output_type": "stream",
     "text": [
      "warn:0: SislWarning: number of supercells could not be read from output files. Assuming molecule cell (no supercell connections)\n",
      "warn:0: SislWarning: number of supercells could not be read from output files. Assuming molecule cell (no supercell connections)\n"
     ]
    }
   ],
   "source": [
    "# if Results Folder is there\n",
    "initial = sisl.get_sile('./1/results/input.fdf').read_geometry(output=True)\n",
    "final = sisl.get_sile('./2/results/input.fdf').read_geometry(output=True)\n",
    "# if using fdf\n",
    "#initial= sisl.get_sile(\"1.fdf\").read_geometry(output=False)\n",
    "#final= sisl.get_sile(\"2.fdf\").read_geometry(output=False)\n",
    "#initial= sisl.get_sile(\"1-wog.fdf\").read_geometry(output=False)\n",
    "#final= sisl.get_sile(\"2-wog.fdf\").read_geometry(output=False)"
   ]
  },
  {
   "cell_type": "code",
   "execution_count": null,
   "id": "7880d448",
   "metadata": {},
   "outputs": [],
   "source": [
    "a=ManualNEB(\n",
    "            number_of_images=7,\n",
    "            interpolation_method='idpp',\n",
    "            initial_structure=initial,\n",
    "            final_structure=final,\n",
    "            initial_relaxed_path='1/results',\n",
    "            final_relaxed_path='2/results',\n",
    "            #neb_path='/home/aakhtar/Calculations/2020/siesta/SiestaBarriers/SislToolBox/Manual-Sisl/neb/results'\n",
    "           )"
   ]
  },
  {
   "cell_type": "code",
   "execution_count": null,
   "id": "1a320b3b",
   "metadata": {},
   "outputs": [],
   "source": [
    "a.prepare_manual_images()"
   ]
  },
  {
   "cell_type": "code",
   "execution_count": null,
   "id": "3a2e8793",
   "metadata": {},
   "outputs": [],
   "source": [
    "a.prepare_neb(overwrite=True)"
   ]
  },
  {
   "cell_type": "code",
   "execution_count": null,
   "id": "1439f326",
   "metadata": {},
   "outputs": [],
   "source": [
    "#a.plot_neb_results(neb_results_folder_name='/home/aakhtar/Calculations/2020/siesta/SiestaBarriers/SislToolBox/Manual-Sisl/neb/results')\n",
    "a.plot_neb_results()"
   ]
  },
  {
   "cell_type": "code",
   "execution_count": 3,
   "id": "1c913e65",
   "metadata": {},
   "outputs": [
    {
     "name": "stdout",
     "output_type": "stream",
     "text": [
      "DEBUG /home/aakhtar/Calculations/2020/siesta/SiestaBarriers/SislToolBox/Manual-Sisl/neb/results\n",
      "*******************************************************************\n",
      "Plotting NEB...! \n",
      "*******************************************************************\n",
      "DEBUG: 7\n"
     ]
    },
    {
     "data": {
      "image/png": "[encoded data removed]",
      "text/plain": [
       "<Figure size 432x288 with 1 Axes>"
      ]
     },
     "metadata": {
      "needs_background": "light"
     },
     "output_type": "display_data"
    }
   ],
   "source": [
    "ManualNEB.plot_neb_results_from_file(\"/home/aakhtar/Calculations/2020/siesta/SiestaBarriers/SislToolBox/Manual-Sisl/neb/results\")"
   ]
  },
  {
   "cell_type": "code",
   "execution_count": null,
   "id": "a5279dde",
   "metadata": {},
   "outputs": [],
   "source": [
    "class A:\n",
    "    def __init__(self,\n",
    "                images = None):\n",
    "        self.images = images\n",
    "        if self.images is not None:\n",
    "            self.images = [Geometry.new(image) for image in images]\n",
    "            \n",
    "    @staticmethod\n",
    "    def plot_neb_results_from_file(neb_results_folder_name=''):\n",
    "        \"\"\"\n",
    "        \"\"\"\n",
    "        import pathlib\n",
    "        from toolbox.siesta.barriers.utils_barriers import plot_barrier\n",
    "        neb_results_path = pathlib.Path( neb_results_folder_name)\n",
    "        print(\"DEBUG\",neb_results_path)\n",
    "        if neb_results_path.exists():\n",
    "            plot_barrier(neb_results_path,fig_name='NEB',dpi_in=600)\n"
   ]
  },
  {
   "cell_type": "code",
   "execution_count": null,
   "id": "a255e858",
   "metadata": {},
   "outputs": [],
   "source": [
    "class B(A):\n",
    "    def __init__(self,\n",
    "                 initial_structure = None,\n",
    "                 final_structure = None,\n",
    "                 number_of_images = None,\n",
    "                ):\n",
    "        super().__init__(images=[initial_structure])\n",
    "    "
   ]
  },
  {
   "cell_type": "code",
   "execution_count": null,
   "id": "238f872d",
   "metadata": {},
   "outputs": [],
   "source": []
  },
  {
   "cell_type": "code",
   "execution_count": null,
   "id": "01fa0f49",
   "metadata": {},
   "outputs": [],
   "source": [
    "A.plot_neb_results_from_file()"
   ]
  },
  {
   "cell_type": "code",
   "execution_count": null,
   "id": "aa41f43a",
   "metadata": {},
   "outputs": [],
   "source": []
  },
  {
   "cell_type": "code",
   "execution_count": null,
   "id": "52a6e062",
   "metadata": {},
   "outputs": [],
   "source": []
  },
  {
   "cell_type": "code",
   "execution_count": null,
   "id": "2cba2587",
   "metadata": {},
   "outputs": [],
   "source": []
  },
  {
   "cell_type": "code",
   "execution_count": null,
   "id": "e9473073",
   "metadata": {},
   "outputs": [],
   "source": []
  },
  {
   "cell_type": "code",
   "execution_count": null,
   "id": "6a348b23",
   "metadata": {},
   "outputs": [],
   "source": []
  }
 ],
 "metadata": {
  "kernelspec": {
   "display_name": "Python 3 (ipykernel)",
   "language": "python",
   "name": "python3"
  },
  "language_info": {
   "codemirror_mode": {
    "name": "ipython",
    "version": 3
   },
   "file_extension": ".py",
   "mimetype": "text/x-python",
   "name": "python",
   "nbconvert_exporter": "python",
   "pygments_lexer": "ipython3",
   "version": "3.8.10"
  }
 },
 "nbformat": 4,
 "nbformat_minor": 5
}
