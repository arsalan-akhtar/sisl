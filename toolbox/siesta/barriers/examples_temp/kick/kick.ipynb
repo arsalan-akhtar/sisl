{
 "cells": [
  {
   "cell_type": "code",
   "execution_count": 1,
   "id": "94f53198",
   "metadata": {},
   "outputs": [],
   "source": [
    "from toolbox.siesta.barriers import KickNEB"
   ]
  },
  {
   "cell_type": "code",
   "execution_count": 2,
   "id": "45a5f5bb",
   "metadata": {},
   "outputs": [
    {
     "name": "stderr",
     "output_type": "stream",
     "text": [
      "warn:0: SislWarning: fdfSileSiesta(input.fdf, base=/home/aakhtar/Projects/sisl/toolbox/siesta/barriers/examples_temp/kick) is trying to include file: parameters.fdf but the file seems not to exist? Will disregard file!\n",
      "warn:0: SislWarning: fdfSileSiesta(input.fdf, base=/home/aakhtar/Projects/sisl/toolbox/siesta/barriers/examples_temp/kick) is trying to include file: parameters.fdf but the file seems not to exist? Will disregard file!\n",
      "warn:0: SislWarning: fdfSileSiesta(input.fdf, base=/home/aakhtar/Projects/sisl/toolbox/siesta/barriers/examples_temp/kick) is trying to include file: parameters.fdf but the file seems not to exist? Will disregard file!\n",
      "warn:0: SislWarning: fdfSileSiesta(input.fdf, base=/home/aakhtar/Projects/sisl/toolbox/siesta/barriers/examples_temp/kick) is trying to include file: parameters.fdf but the file seems not to exist? Will disregard file!\n"
     ]
    }
   ],
   "source": [
    "import sisl\n",
    "import numpy as np\n",
    "host_sturcture = sisl.get_sile('./input.fdf').read_geometry()\n"
   ]
  },
  {
   "cell_type": "code",
   "execution_count": 3,
   "id": "6efb65ad",
   "metadata": {},
   "outputs": [
    {
     "name": "stdout",
     "output_type": "stream",
     "text": [
      "DEBUG: . . input.fdf input.fdf\n",
      "=================================================\n",
      "The Initial Kicked Image Generation ...\n",
      "=================================================\n",
      "The Atom Index is (64) and Position is ([1.05697075 1.05697075 1.0569707 ])\n",
      "The Atom Index is (4) and Position is ([2.1139415 0.        0.       ])\n",
      "Order : Initial Atom Position > Final Atom Position\n"
     ]
    }
   ],
   "source": [
    "A = KickNEB(pristine_structure=host_sturcture,\n",
    "            initial_atom_position=np.array([1.05697075, 1.05697075, 1.0569707]),\n",
    "            final_atom_position=np.array([2.11394150, 0.00000000, 0.00000000]),\n",
    "            kicked_atom_final_position=np.array([3.17091225, 1.05697075, 1.05697075]),\n",
    "            number_of_images=7,\n",
    "            interpolation_method='idpp',\n",
    "            ghost=False\n",
    "           )"
   ]
  },
  {
   "cell_type": "code",
   "execution_count": null,
   "id": "865955f2",
   "metadata": {},
   "outputs": [],
   "source": []
  },
  {
   "cell_type": "code",
   "execution_count": null,
   "id": "466c9842",
   "metadata": {},
   "outputs": [],
   "source": []
  },
  {
   "cell_type": "code",
   "execution_count": null,
   "id": "a1a722b6",
   "metadata": {},
   "outputs": [],
   "source": []
  },
  {
   "cell_type": "code",
   "execution_count": 4,
   "id": "326f5372",
   "metadata": {},
   "outputs": [
    {
     "name": "stdout",
     "output_type": "stream",
     "text": [
      "Copying ASE For NEB Image  0 (initial)\n",
      "Copying ASE For NEB Image  1\n",
      "Copying ASE For NEB Image  2\n",
      "Copying ASE For NEB Image  3\n",
      "Copying ASE For NEB Image  4\n",
      "Copying ASE For NEB Image  5\n",
      "Copying ASE For NEB Image  6\n",
      "Copying ASE For NEB Image  7\n",
      "Copying ASE For NEB Image  8 final\n"
     ]
    },
    {
     "ename": "AttributeError",
     "evalue": "'Geometry' object has no attribute 'pbc'",
     "output_type": "error",
     "traceback": [
      "\u001b[0;31m---------------------------------------------------------------------------\u001b[0m",
      "\u001b[0;31mAttributeError\u001b[0m                            Traceback (most recent call last)",
      "\u001b[0;32m/tmp/ipykernel_4580/849506884.py\u001b[0m in \u001b[0;36m<module>\u001b[0;34m\u001b[0m\n\u001b[0;32m----> 1\u001b[0;31m \u001b[0mA\u001b[0m\u001b[0;34m.\u001b[0m\u001b[0mprepare_kick_images\u001b[0m\u001b[0;34m(\u001b[0m\u001b[0;34m)\u001b[0m\u001b[0;34m\u001b[0m\u001b[0;34m\u001b[0m\u001b[0m\n\u001b[0m",
      "\u001b[0;32m~/Projects/sisl/toolbox/siesta/barriers/barriers.py\u001b[0m in \u001b[0;36mprepare_kick_images\u001b[0;34m(self)\u001b[0m\n\u001b[1;32m    698\u001b[0m         \u001b[0mimages_ASE\u001b[0m\u001b[0;34m.\u001b[0m\u001b[0mappend\u001b[0m\u001b[0;34m(\u001b[0m\u001b[0mself\u001b[0m\u001b[0;34m.\u001b[0m\u001b[0m__final\u001b[0m\u001b[0;34m)\u001b[0m\u001b[0;34m\u001b[0m\u001b[0;34m\u001b[0m\u001b[0m\n\u001b[1;32m    699\u001b[0m         \u001b[0mprint\u001b[0m \u001b[0;34m(\u001b[0m\u001b[0;34m\"Copying ASE For NEB Image \"\u001b[0m\u001b[0;34m,\u001b[0m\u001b[0mi\u001b[0m\u001b[0;34m+\u001b[0m\u001b[0;36m2\u001b[0m\u001b[0;34m,\u001b[0m \u001b[0;34m'final'\u001b[0m\u001b[0;34m)\u001b[0m\u001b[0;34m\u001b[0m\u001b[0;34m\u001b[0m\u001b[0m\n\u001b[0;32m--> 700\u001b[0;31m         \u001b[0mself\u001b[0m\u001b[0;34m.\u001b[0m\u001b[0mneb\u001b[0m \u001b[0;34m=\u001b[0m \u001b[0mNEB\u001b[0m\u001b[0;34m(\u001b[0m\u001b[0mimages_ASE\u001b[0m\u001b[0;34m)\u001b[0m\u001b[0;34m\u001b[0m\u001b[0;34m\u001b[0m\u001b[0m\n\u001b[0m\u001b[1;32m    701\u001b[0m         \u001b[0mself\u001b[0m\u001b[0;34m.\u001b[0m\u001b[0mneb\u001b[0m\u001b[0;34m.\u001b[0m\u001b[0minterpolate\u001b[0m\u001b[0;34m(\u001b[0m\u001b[0mself\u001b[0m\u001b[0;34m.\u001b[0m\u001b[0minterpolation_method\u001b[0m\u001b[0;34m,\u001b[0m\u001b[0mmic\u001b[0m\u001b[0;34m=\u001b[0m\u001b[0;32mTrue\u001b[0m\u001b[0;34m)\u001b[0m\u001b[0;34m\u001b[0m\u001b[0;34m\u001b[0m\u001b[0m\n\u001b[1;32m    702\u001b[0m \u001b[0;34m\u001b[0m\u001b[0m\n",
      "\u001b[0;32m~/VEnv/sisl-aakhtar/lib/python3.8/site-packages/ase/neb.py\u001b[0m in \u001b[0;36m__init__\u001b[0;34m(self, images, k, climb, parallel, remove_rotation_and_translation, world, method, allow_shared_calculator, precon, **kwargs)\u001b[0m\n\u001b[1;32m    796\u001b[0m         \u001b[0;31m# Then we can also move DyNEB into ase.dyneb without cyclic imports.\u001b[0m\u001b[0;34m\u001b[0m\u001b[0;34m\u001b[0m\u001b[0;34m\u001b[0m\u001b[0m\n\u001b[1;32m    797\u001b[0m         \u001b[0;31m# We can do that in ase-3.22 or 3.23.\u001b[0m\u001b[0;34m\u001b[0m\u001b[0;34m\u001b[0m\u001b[0;34m\u001b[0m\u001b[0m\n\u001b[0;32m--> 798\u001b[0;31m         super().__init__(\n\u001b[0m\u001b[1;32m    799\u001b[0m             \u001b[0mimages\u001b[0m\u001b[0;34m,\u001b[0m \u001b[0mk\u001b[0m\u001b[0;34m=\u001b[0m\u001b[0mk\u001b[0m\u001b[0;34m,\u001b[0m \u001b[0mclimb\u001b[0m\u001b[0;34m=\u001b[0m\u001b[0mclimb\u001b[0m\u001b[0;34m,\u001b[0m \u001b[0mparallel\u001b[0m\u001b[0;34m=\u001b[0m\u001b[0mparallel\u001b[0m\u001b[0;34m,\u001b[0m\u001b[0;34m\u001b[0m\u001b[0;34m\u001b[0m\u001b[0m\n\u001b[1;32m    800\u001b[0m             \u001b[0mremove_rotation_and_translation\u001b[0m\u001b[0;34m=\u001b[0m\u001b[0mremove_rotation_and_translation\u001b[0m\u001b[0;34m,\u001b[0m\u001b[0;34m\u001b[0m\u001b[0;34m\u001b[0m\u001b[0m\n",
      "\u001b[0;32m~/VEnv/sisl-aakhtar/lib/python3.8/site-packages/ase/neb.py\u001b[0m in \u001b[0;36m__init__\u001b[0;34m(self, images, k, fmax, climb, parallel, remove_rotation_and_translation, world, dynamic_relaxation, scale_fmax, method, allow_shared_calculator, precon)\u001b[0m\n\u001b[1;32m    641\u001b[0m             \u001b[0mkeyword\u001b[0m \u001b[0mdetermines\u001b[0m \u001b[0mhow\u001b[0m \u001b[0mrapidly\u001b[0m \u001b[0mthe\u001b[0m \u001b[0mconvergence\u001b[0m \u001b[0mcriteria\u001b[0m \u001b[0mare\u001b[0m \u001b[0mscaled\u001b[0m\u001b[0;34m.\u001b[0m\u001b[0;34m\u001b[0m\u001b[0;34m\u001b[0m\u001b[0m\n\u001b[1;32m    642\u001b[0m         \"\"\"\n\u001b[0;32m--> 643\u001b[0;31m         super().__init__(\n\u001b[0m\u001b[1;32m    644\u001b[0m             \u001b[0mimages\u001b[0m\u001b[0;34m,\u001b[0m \u001b[0mk\u001b[0m\u001b[0;34m=\u001b[0m\u001b[0mk\u001b[0m\u001b[0;34m,\u001b[0m \u001b[0mclimb\u001b[0m\u001b[0;34m=\u001b[0m\u001b[0mclimb\u001b[0m\u001b[0;34m,\u001b[0m \u001b[0mparallel\u001b[0m\u001b[0;34m=\u001b[0m\u001b[0mparallel\u001b[0m\u001b[0;34m,\u001b[0m\u001b[0;34m\u001b[0m\u001b[0;34m\u001b[0m\u001b[0m\n\u001b[1;32m    645\u001b[0m             \u001b[0mremove_rotation_and_translation\u001b[0m\u001b[0;34m=\u001b[0m\u001b[0mremove_rotation_and_translation\u001b[0m\u001b[0;34m,\u001b[0m\u001b[0;34m\u001b[0m\u001b[0;34m\u001b[0m\u001b[0m\n",
      "\u001b[0;32m~/VEnv/sisl-aakhtar/lib/python3.8/site-packages/ase/neb.py\u001b[0m in \u001b[0;36m__init__\u001b[0;34m(self, images, k, climb, parallel, remove_rotation_and_translation, world, method, allow_shared_calculator, precon)\u001b[0m\n\u001b[1;32m    267\u001b[0m             \u001b[0;32mif\u001b[0m \u001b[0mlen\u001b[0m\u001b[0;34m(\u001b[0m\u001b[0mimg\u001b[0m\u001b[0;34m)\u001b[0m \u001b[0;34m!=\u001b[0m \u001b[0mself\u001b[0m\u001b[0;34m.\u001b[0m\u001b[0mnatoms\u001b[0m\u001b[0;34m:\u001b[0m\u001b[0;34m\u001b[0m\u001b[0;34m\u001b[0m\u001b[0m\n\u001b[1;32m    268\u001b[0m                 \u001b[0;32mraise\u001b[0m \u001b[0mValueError\u001b[0m\u001b[0;34m(\u001b[0m\u001b[0;34m'Images have different numbers of atoms'\u001b[0m\u001b[0;34m)\u001b[0m\u001b[0;34m\u001b[0m\u001b[0;34m\u001b[0m\u001b[0m\n\u001b[0;32m--> 269\u001b[0;31m             \u001b[0;32mif\u001b[0m \u001b[0mnp\u001b[0m\u001b[0;34m.\u001b[0m\u001b[0many\u001b[0m\u001b[0;34m(\u001b[0m\u001b[0mimg\u001b[0m\u001b[0;34m.\u001b[0m\u001b[0mpbc\u001b[0m \u001b[0;34m!=\u001b[0m \u001b[0mimages\u001b[0m\u001b[0;34m[\u001b[0m\u001b[0;36m0\u001b[0m\u001b[0;34m]\u001b[0m\u001b[0;34m.\u001b[0m\u001b[0mpbc\u001b[0m\u001b[0;34m)\u001b[0m\u001b[0;34m:\u001b[0m\u001b[0;34m\u001b[0m\u001b[0;34m\u001b[0m\u001b[0m\n\u001b[0m\u001b[1;32m    270\u001b[0m                 \u001b[0;32mraise\u001b[0m \u001b[0mValueError\u001b[0m\u001b[0;34m(\u001b[0m\u001b[0;34m'Images have different boundary conditions'\u001b[0m\u001b[0;34m)\u001b[0m\u001b[0;34m\u001b[0m\u001b[0;34m\u001b[0m\u001b[0m\n\u001b[1;32m    271\u001b[0m             if np.any(img.get_atomic_numbers() !=\n",
      "\u001b[0;31mAttributeError\u001b[0m: 'Geometry' object has no attribute 'pbc'"
     ]
    }
   ],
   "source": [
    "A.prepare_kick_images()\n"
   ]
  },
  {
   "cell_type": "code",
   "execution_count": null,
   "id": "234a5d8f",
   "metadata": {},
   "outputs": [],
   "source": [
    "for i in range(A.number_of_images+2):\n",
    "    A.images[i].write(f\"image-{i}.xyz\")"
   ]
  },
  {
   "cell_type": "code",
   "execution_count": null,
   "id": "eb79e65c",
   "metadata": {},
   "outputs": [],
   "source": []
  }
 ],
 "metadata": {
  "kernelspec": {
   "display_name": "Python 3 (ipykernel)",
   "language": "python",
   "name": "python3"
  },
  "language_info": {
   "codemirror_mode": {
    "name": "ipython",
    "version": 3
   },
   "file_extension": ".py",
   "mimetype": "text/x-python",
   "name": "python",
   "nbconvert_exporter": "python",
   "pygments_lexer": "ipython3",
   "version": "3.8.10"
  }
 },
 "nbformat": 4,
 "nbformat_minor": 5
}
