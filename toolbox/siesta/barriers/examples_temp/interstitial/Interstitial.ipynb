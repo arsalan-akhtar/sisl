{
 "cells": [
  {
   "cell_type": "code",
   "execution_count": null,
   "id": "55cfeb7d",
   "metadata": {},
   "outputs": [],
   "source": [
    "from toolbox.siesta.barriers import InterstitialNEB"
   ]
  },
  {
   "cell_type": "code",
   "execution_count": null,
   "id": "c3a5a9b6",
   "metadata": {},
   "outputs": [],
   "source": [
    "import numpy as np\n",
    "import sisl \n",
    "host= sisl.get_sile('./1.fdf').read_geometry()"
   ]
  },
  {
   "cell_type": "code",
   "execution_count": null,
   "id": "229db16b",
   "metadata": {},
   "outputs": [],
   "source": [
    "A = InterstitialNEB(pristine_structure=host,\n",
    "                    initial_atom_position=np.array([1.05697075, 1.05697075, 1.05697075]),\n",
    "                    final_atom_position=np.array([3.17091225, 1.05697075, 1.05697075]),\n",
    "                    interpolation_method='idpp',\n",
    "                    relaxed=False,\n",
    "                    number_of_images=7,\n",
    "                    initial_relaxed_path='./image-0-relaxed/results/',\n",
    "                    initial_relaxed_fdf_name='input.fdf',\n",
    "                    final_relaxed_path = './image-9-relaxed/results/',\n",
    "                    final_relaxed_fdf_name='input.fdf',\n",
    "                    ghost = False,\n",
    "                    moving=True,\n",
    "                   )"
   ]
  },
  {
   "cell_type": "code",
   "execution_count": null,
   "id": "10fbf63f",
   "metadata": {},
   "outputs": [],
   "source": [
    "A.prepare_interstitial_images()"
   ]
  },
  {
   "cell_type": "code",
   "execution_count": null,
   "id": "b148480e",
   "metadata": {},
   "outputs": [],
   "source": [
    "A.prepare_endpoint_relaxation()"
   ]
  },
  {
   "cell_type": "code",
   "execution_count": null,
   "id": "115ab759",
   "metadata": {},
   "outputs": [],
   "source": [
    "A.prepare_neb(overwrite=True)"
   ]
  },
  {
   "cell_type": "code",
   "execution_count": null,
   "id": "069483be",
   "metadata": {},
   "outputs": [],
   "source": []
  }
 ],
 "metadata": {
  "kernelspec": {
   "display_name": "Python 3 (ipykernel)",
   "language": "python",
   "name": "python3"
  },
  "language_info": {
   "codemirror_mode": {
    "name": "ipython",
    "version": 3
   },
   "file_extension": ".py",
   "mimetype": "text/x-python",
   "name": "python",
   "nbconvert_exporter": "python",
   "pygments_lexer": "ipython3",
   "version": "3.8.10"
  }
 },
 "nbformat": 4,
 "nbformat_minor": 5
}
