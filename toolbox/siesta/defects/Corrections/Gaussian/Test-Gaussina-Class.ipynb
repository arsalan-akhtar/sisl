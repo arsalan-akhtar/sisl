{
 "cells": [
  {
   "cell_type": "code",
   "execution_count": 1,
   "id": "e066de0e",
   "metadata": {},
   "outputs": [],
   "source": [
    "from toolbox.siesta.defects.Corrections.Gaussian.gaussian_countercharge_model import GaussianCharge\n",
    "import sisl\n",
    "import numpy as np"
   ]
  },
  {
   "cell_type": "code",
   "execution_count": 2,
   "id": "3dc6d465",
   "metadata": {},
   "outputs": [],
   "source": [
    "GaAs_222_dir = '/home/aakhtar/Calculations/2020/siesta/Defects/GaAs/LDA-standard-psml/222/GaAs-222-cg-0-6293038.frontal2/'\n",
    "GaAs_222_GaV_0e_dir_cg0 = '/home/aakhtar/Calculations/2020/siesta/Defects/GaAs/LDA-standard-psml/222-GaV/GaAs-222-VGa-cg-0-6435564.frontal2/'\n",
    "GaAs_222_GaV_0e_dir_relax = '/home/aakhtar/Calculations/2020/siesta/Defects/GaAs/LDA-standard-psml/222-GaV/GaAs-222-VGa-relax-6436782.frontal2/'\n",
    "\n",
    "GaAs_222_GaV_1e_dir_cg0 = '/home/aakhtar/Calculations/2020/siesta/Defects/GaAs/LDA-standard-psml/222-GaV-e1/GaAs-222-VGa-1e-cg-0-6293054.frontal2/'\n",
    "GaAs_222_GaV_1e_dir_relax = '/home/aakhtar/Calculations/2020/siesta/Defects/GaAs/LDA-standard-psml/222-GaV-e1/GaAs-222-VGa-1e-relax-6435606.frontal2/'\n",
    "GaAs_222_GaV_2e_dir_cg0 = '/home/aakhtar/Calculations/2020/siesta/Defects/GaAs/LDA-standard-psml/222-GaV-e2/GaAs-222-VGa-2e-cg-0-6293055.frontal2/'\n",
    "GaAs_222_GaV_2e_dir_relax = '/home/aakhtar/Calculations/2020/siesta/Defects/GaAs/LDA-standard-psml/222-GaV-e2/GaAs-222-VGa-2e-relax-6435670.frontal2/'\n",
    "GaAs_222_GaV_3e_dir_cg0 ='/home/aakhtar/Calculations/2020/siesta/Defects/GaAs/LDA-standard-psml/222-GaV-e3/GaAs-222-VGa-3e-cg-0-6293057.frontal2/'\n",
    "GaAs_222_GaV_3e_dir_relax ='/home/aakhtar/Calculations/2020/siesta/Defects/GaAs/LDA-standard-psml/222-GaV-e3/GaAs-222-VGa-3e-relax-6435673.frontal2/'"
   ]
  },
  {
   "cell_type": "code",
   "execution_count": 3,
   "id": "159d8f2e",
   "metadata": {},
   "outputs": [],
   "source": [
    "host = GaAs_222_dir\n",
    "defect_neutral = GaAs_222_GaV_0e_dir_cg0\n",
    "defect_charged = GaAs_222_GaV_3e_dir_cg0"
   ]
  },
  {
   "cell_type": "code",
   "execution_count": 4,
   "id": "223d2b65",
   "metadata": {},
   "outputs": [],
   "source": [
    "#-------------------------------------------\n",
    "host_fdf = sisl.get_sile(host+'/input.fdf')\n",
    "defect_q0_fdf = sisl.get_sile(defect_neutral+'/input.fdf')\n",
    "defect_q_fdf = sisl.get_sile(defect_charged+'/input.fdf')\n",
    "#-------------------------------------------\n",
    "host_geometry = host_fdf.read_geometry()\n",
    "defect_q0_geometry = host_fdf.read_geometry()\n",
    "defect_q_geometry = host_fdf.read_geometry()\n",
    "#---------------------------------------------\n",
    "host_VT = sisl.get_sile(host+'/GaAs.VT')\n",
    "defect_q0_VT = sisl.get_sile(defect_neutral+'/GaAs.VT')\n",
    "defect_q_VT = sisl.get_sile(defect_charged+'/GaAs.VT')\n",
    "#---------------------------------------------\n",
    "host_Rho = sisl.get_sile(host+'/GaAs.RHO')\n",
    "defect_q0_Rho = sisl.get_sile(defect_neutral+'/GaAs.RHO') \n",
    "defect_q_Rho =  sisl.get_sile(defect_charged+'/GaAs.RHO')"
   ]
  },
  {
   "cell_type": "code",
   "execution_count": 5,
   "id": "468b618e",
   "metadata": {},
   "outputs": [],
   "source": [
    "fitparams_222_2e={'fit': [0.9218334054956177, 0.9218336052483763, 0.9218337513948177, 0.4172582560141424, 0.4172582771599105, 0.4172719587737979, 7.41236787923498e-24, 2.818432697640383e-23, 9.27586368970451e-24],\n",
    "                 'peak_charge': 0.022614568, \n",
    "                 'error': [7.167653016870826e-05, 7.204435742506536e-05, 7.167883581783337e-05, 0.0007131879541088637, 0.0007129817335000904, 0.0007130032027176806, 0.0005671281259054487, 0.0005671311293823194, 0.0005640439677785572]}\n",
    "fit_222_3e = {'fit': [0.9199150155764293,\n",
    "  0.08489595565585856,\n",
    "  0.08489565102824648,\n",
    "  0.4499951140331784,\n",
    "  0.4329406199450955,\n",
    "  0.432931120841954,\n",
    "  0.08609493361940279,\n",
    "  0.08609822792251405,\n",
    "  6.812092324182113e-22],\n",
    " 'peak_charge': 0.035612136,\n",
    " 'error': [7.502588869115411e-05,\n",
    "  7.161672602160784e-05,\n",
    "  7.118998577465708e-05,\n",
    "  0.0007042817443811122,\n",
    "  0.0006880908419856234,\n",
    "  0.0006880905138723191,\n",
    "  0.0005649114017050514,\n",
    "  0.0005642872579975037,\n",
    "  0.0005451982368564187]}"
   ]
  },
  {
   "cell_type": "code",
   "execution_count": 6,
   "id": "dc722292",
   "metadata": {},
   "outputs": [],
   "source": [
    "#G_sigma = GaussianCharge(v_host=host_VT,\n",
    "#                   v_defect_q0=defect_q0_VT,\n",
    "#                   v_defect_q=defect_q_VT,\n",
    "#                   defect_charge=-2,\n",
    "#                   defect_site= np.array([0.0,0.0,0.0]),\n",
    "#                   host_structure=host_geometry,\n",
    "#                   epsilon=12.4,\n",
    "#                   scheme='gaussian-model',\n",
    "#                   sigma = 0.9,\n",
    "#                   cutoff=100.0,\n",
    "#                   #use_siesta_mesh_cutoff=True      \n",
    "#                   )\n",
    "#G_sigma.run()\n",
    "#G_sigma.get_isolated_energy()\n",
    "#G_sigma.get_model_corrections()\n",
    "#G_sigma.model_correction_energies\n",
    "#G_rho = GaussianCharge(v_host=host_VT,\n",
    "#                   v_defect_q0=defect_q0_VT,\n",
    "#                   v_defect_q=defect_q_VT,\n",
    "#                   defect_charge=-2,\n",
    "#                   defect_site= np.array([0.0,0.0,0.0]),\n",
    "#                   host_structure=host_geometry,\n",
    "#                   epsilon=12.4,\n",
    "#                   scheme='gaussian-rho',\n",
    "#                   rho_defect_q0=host_Rho, #defect_q0_Rho,\n",
    "#                   rho_defect_q=defect_q_Rho,\n",
    "#                   #sigma = 1,\n",
    "#                   cutoff=100.0,\n",
    "#                   #use_siesta_mesh_cutoff=True,\n",
    "#                   #fit_params=fitparams_222_2e,   \n",
    "#                   )"
   ]
  },
  {
   "cell_type": "code",
   "execution_count": 7,
   "id": "b1817364",
   "metadata": {},
   "outputs": [],
   "source": [
    "G_rho = GaussianCharge(v_host=host_VT,\n",
    "                   v_defect_q0=defect_q0_VT,\n",
    "                   v_defect_q=defect_q_VT,\n",
    "                   defect_charge=-3,\n",
    "                   defect_site= np.array([0.0,0.0,0.0]),\n",
    "                   host_structure=host_geometry,\n",
    "                   epsilon=12.4,\n",
    "                   scheme='rho',\n",
    "                   rho_host=host_Rho,\n",
    "                   rho_defect_q0=defect_q0_Rho, #defect_q0_Rho,\n",
    "                   rho_defect_q=defect_q_Rho,\n",
    "                   #sigma = 1,\n",
    "                   cutoff=100.0,\n",
    "                   #use_siesta_mesh_cutoff=True,\n",
    "                   #fit_params=fitparams_222_2e,   \n",
    "                   )"
   ]
  },
  {
   "cell_type": "code",
   "execution_count": 8,
   "id": "62ee3cf5",
   "metadata": {
    "scrolled": true
   },
   "outputs": [
    {
     "name": "stdout",
     "output_type": "stream",
     "text": [
      "Checking Correction  (rho) Scheme ...\n",
      "--------------------********************************---------------------\n",
      "                           Starting  RHO Scheme                          \n",
      "--------------------********************************--------------------\n",
      "\n",
      "Calculations For Scale Factor 1 ...\n",
      "Computing CHARGE MODEL for Scale Factor 1\n",
      "Computing POTENTIAL MODEL for Scale Factor 1\n",
      "DEBUG q_q0 LOWER GRID\n",
      "Siesta has ODD mesh [37 37 37] changing to Even ... !\n",
      "lower gird is (36, 36, 36)\n",
      "Grid Shift is (18.0, 18.0, 18.0)\n",
      "DEBUG: scale factor 1 with sub grid shift ((0, 0), (0, 0), (0, 0))\n",
      "DEBUG: shape of scale model (36, 36, 36)\n",
      "DEBUG: sub grid shift ((0, 0), (0, 0), (0, 0))\n",
      "Gaussian Class DEBUG: Computing Model Charge for scale factor 1\n",
      "Dimension of Grid is {1: (36, 36, 36)}\n",
      "Model Structure cell [[11.2355031   0.          0.        ]\n",
      " [ 0.         11.23550313  0.        ]\n",
      " [ 0.          0.         11.23550339]]\n",
      "MODEL CHARGE FROM RHO LOWER (Direct) DONE!\n",
      "\n",
      "\n",
      "--------------------ModelPotential Class Start--------------------\n",
      "\n",
      "ModelPotential Class Debug: grid dimension is (36, 36, 36)\n",
      "ModelPotential Class Debug: Computing model potential for scale factor 1\n",
      "ModelPotential Class DEBUG: cell is :\n",
      " [[11.2355031   0.          0.        ]\n",
      " [ 0.         11.23550313  0.        ]\n",
      " [ 0.          0.         11.23550339]]\n",
      "ModelPotential Class DEBUG: rec cell is :\n",
      " [[0.55922599 0.         0.        ]\n",
      " [0.         0.55922599 0.        ]\n",
      " [0.         0.         0.55922597]]\n",
      "ModelPotential Class Debug: Computing model energy for scale factor 1\n",
      "ModelPotential Class Debug: Calculated model energy: 0.010265071343304675 eV\n",
      "ModelPotential Class Debug: Finished successfully for scale 1\n",
      "\n",
      "--------------------ModelPotential Class Finished--------------------\n",
      "\n",
      "Done For Scale Factor 1\n",
      "------------------------------------------------------------\n",
      "\n",
      "Calculations For Scale Factor 2 ...\n",
      "Computing CHARGE MODEL for Scale Factor 2\n",
      "Computing POTENTIAL MODEL for Scale Factor 2\n",
      "DEBUG q_q0 LOWER GRID\n",
      "Siesta has ODD mesh [37 37 37] changing to Even ... !\n",
      "lower gird is (36, 36, 36)\n",
      "Grid Shift is (18.0, 18.0, 18.0)\n",
      "DEBUG: scale factor 2 with sub grid shift ((0, 36), (0, 36), (0, 36))\n",
      "DEBUG: shape of scale model (72, 72, 72)\n",
      "DEBUG: sub grid shift ((0, 36), (0, 36), (0, 36))\n",
      "Gaussian Class DEBUG: Computing Model Charge for scale factor 2\n",
      "Dimension of Grid is {1: (36, 36, 36), 2: (72, 72, 72)}\n",
      "Model Structure cell [[22.4710062   0.          0.        ]\n",
      " [ 0.         22.47100626  0.        ]\n",
      " [ 0.          0.         22.47100678]]\n",
      "MODEL CHARGE FROM RHO LOWER (Direct) DONE!\n",
      "\n",
      "\n",
      "--------------------ModelPotential Class Start--------------------\n",
      "\n",
      "ModelPotential Class Debug: grid dimension is (72, 72, 72)\n",
      "ModelPotential Class Debug: Computing model potential for scale factor 2\n",
      "ModelPotential Class DEBUG: cell is :\n",
      " [[22.4710062   0.          0.        ]\n",
      " [ 0.         22.47100626  0.        ]\n",
      " [ 0.          0.         22.47100678]]\n",
      "ModelPotential Class DEBUG: rec cell is :\n",
      " [[0.27961299 0.         0.        ]\n",
      " [0.         0.27961299 0.        ]\n",
      " [0.         0.         0.27961299]]\n",
      "ModelPotential Class Debug: Computing model energy for scale factor 2\n",
      "ModelPotential Class Debug: Calculated model energy: 0.1423175381941955 eV\n",
      "ModelPotential Class Debug: Finished successfully for scale 2\n",
      "\n",
      "--------------------ModelPotential Class Finished--------------------\n",
      "\n",
      "Done For Scale Factor 2\n",
      "------------------------------------------------------------\n",
      "\n",
      "Calculations For Scale Factor 3 ...\n",
      "Computing CHARGE MODEL for Scale Factor 3\n",
      "Computing POTENTIAL MODEL for Scale Factor 3\n",
      "DEBUG q_q0 LOWER GRID\n",
      "Siesta has ODD mesh [37 37 37] changing to Even ... !\n",
      "lower gird is (36, 36, 36)\n",
      "Grid Shift is (18.0, 18.0, 18.0)\n",
      "DEBUG: scale factor 3 with sub grid shift ((0, 72), (0, 72), (0, 72))\n",
      "DEBUG: shape of scale model (108, 108, 108)\n",
      "DEBUG: sub grid shift ((0, 72), (0, 72), (0, 72))\n",
      "Gaussian Class DEBUG: Computing Model Charge for scale factor 3\n",
      "Dimension of Grid is {1: (36, 36, 36), 2: (72, 72, 72), 3: (108, 108, 108)}\n",
      "Model Structure cell [[33.7065093   0.          0.        ]\n",
      " [ 0.         33.70650939  0.        ]\n",
      " [ 0.          0.         33.70651017]]\n",
      "MODEL CHARGE FROM RHO LOWER (Direct) DONE!\n",
      "\n",
      "\n",
      "--------------------ModelPotential Class Start--------------------\n",
      "\n",
      "ModelPotential Class Debug: grid dimension is (108, 108, 108)\n",
      "ModelPotential Class Debug: Computing model potential for scale factor 3\n",
      "ModelPotential Class DEBUG: cell is :\n",
      " [[33.7065093   0.          0.        ]\n",
      " [ 0.         33.70650939  0.        ]\n",
      " [ 0.          0.         33.70651017]]\n",
      "ModelPotential Class DEBUG: rec cell is :\n",
      " [[0.18640866 0.         0.        ]\n",
      " [0.         0.18640866 0.        ]\n",
      " [0.         0.         0.18640866]]\n",
      "ModelPotential Class Debug: Computing model energy for scale factor 3\n",
      "ModelPotential Class Debug: Calculated model energy: 0.22300678887331538 eV\n",
      "ModelPotential Class Debug: Finished successfully for scale 3\n",
      "\n",
      "--------------------ModelPotential Class Finished--------------------\n",
      "\n",
      "Done For Scale Factor 3\n",
      "------------------------------------------------------------\n",
      "\n",
      "Gaussian DEBUG: model energies 0.010265071343304675\n",
      "Gaussian DEBUG: model structures {1: <sisl.Geometry na=64, no=1472, nsc=[3 3 3]>, 2: <sisl.Geometry na=512, no=11776, nsc=[3 3 3]>, 3: <sisl.Geometry na=1728, no=39744, nsc=[3 3 3]>}\n",
      "Gaussian DEBUG: model energies 0.1423175381941955\n",
      "Gaussian DEBUG: model structures {1: <sisl.Geometry na=64, no=1472, nsc=[3 3 3]>, 2: <sisl.Geometry na=512, no=11776, nsc=[3 3 3]>, 3: <sisl.Geometry na=1728, no=39744, nsc=[3 3 3]>}\n",
      "Gaussian DEBUG: model energies 0.22300678887331538\n",
      "Gaussian DEBUG: model structures {1: <sisl.Geometry na=64, no=1472, nsc=[3 3 3]>, 2: <sisl.Geometry na=512, no=11776, nsc=[3 3 3]>, 3: <sisl.Geometry na=1728, no=39744, nsc=[3 3 3]>}\n",
      "All Scaled Energies Are DONE\n",
      "\n"
     ]
    }
   ],
   "source": [
    "G_rho.run()"
   ]
  },
  {
   "cell_type": "code",
   "execution_count": 9,
   "id": "a8dfb306",
   "metadata": {},
   "outputs": [],
   "source": [
    "#from toolbox.siesta.defects.Corrections.Model.model_potential import ModelPotential\n",
    "#grid ={}\n",
    "#grid [1] = G_rho.charge_for_align.shape\n",
    "#m = ModelPotential(charge_density = G_rho.charge_for_align,\n",
    "#                       scale_factor = 1 , #self.model_iteration,\n",
    "#                       structure = G_rho.model_structures[1] ,\n",
    "#                       grid = grid,  #self.charge_for_align.shape, \n",
    "#                       epsilon = G_rho.epsilon,\n",
    "#                       use_siesta_mesh_cutoff=G_rho.use_siesta_mesh_cutoff,\n",
    "#                       rho = True\n",
    "#                )\n",
    "#m.run()"
   ]
  },
  {
   "cell_type": "code",
   "execution_count": 10,
   "id": "5b612c2a",
   "metadata": {},
   "outputs": [
    {
     "name": "stdout",
     "output_type": "stream",
     "text": [
      "\n",
      "\n",
      "--------------------ModelPotential Class Start--------------------\n",
      "\n",
      "ModelPotential Class Debug: grid dimension is (180, 180, 180)\n",
      "ModelPotential Class Debug: Computing model potential for scale factor 1\n",
      "ModelPotential Class DEBUG: cell is :\n",
      " [[11.2355031   0.          0.        ]\n",
      " [ 0.         11.23550313  0.        ]\n",
      " [ 0.          0.         11.23550339]]\n",
      "ModelPotential Class DEBUG: rec cell is :\n",
      " [[0.55922599 0.         0.        ]\n",
      " [0.         0.55922599 0.        ]\n",
      " [0.         0.         0.55922597]]\n",
      "ModelPotential Class Debug: Computing model energy for scale factor 1\n",
      "ModelPotential Class Debug: Calculated model energy: 2.4702554991358675e-05 eV\n",
      "ModelPotential Class Debug: Finished successfully for scale 1\n",
      "\n",
      "--------------------ModelPotential Class Finished--------------------\n",
      "\n"
     ]
    }
   ],
   "source": [
    "G_rho.compute_model_potential_for_alignment()"
   ]
  },
  {
   "cell_type": "code",
   "execution_count": null,
   "id": "d78a310e",
   "metadata": {},
   "outputs": [],
   "source": [
    "#G_rho.v_model['rho']"
   ]
  },
  {
   "cell_type": "code",
   "execution_count": null,
   "id": "d2efff52",
   "metadata": {},
   "outputs": [],
   "source": [
    "#v = sisl.Grid(G_rho.v_model['rho'].shape,geometry=host_geometry)"
   ]
  },
  {
   "cell_type": "code",
   "execution_count": null,
   "id": "e2510cb3",
   "metadata": {},
   "outputs": [],
   "source": [
    "#v.grid = G_rho.v_model['rho']"
   ]
  },
  {
   "cell_type": "code",
   "execution_count": null,
   "id": "f957ee8a",
   "metadata": {},
   "outputs": [],
   "source": [
    "#v.write('toalig.XSF')"
   ]
  },
  {
   "cell_type": "code",
   "execution_count": 11,
   "id": "1feea68a",
   "metadata": {},
   "outputs": [
    {
     "name": "stdout",
     "output_type": "stream",
     "text": [
      "Gaussian Class DEBUG: Scale 1 Fitting volume 1418.330963533969 \n",
      "Gaussian Class DEBUG: Scale 1 Fitting linear_dimensions 0.08900357924393125 \n",
      "Gaussian Class DEBUG: Scale 2 Fitting volume 11346.647708271752 \n",
      "Gaussian Class DEBUG: Scale 2 Fitting linear_dimensions 0.044501789621965625 \n",
      "Gaussian Class DEBUG: Scale 3 Fitting volume 38294.93601541716 \n",
      "Gaussian Class DEBUG: Scale 3 Fitting linear_dimensions 0.02966785974797708 \n",
      "Fitting the model energies to obtain the model energy for the isolated case\n",
      "The isolated model energy is 0.4093887641375708 eV\n"
     ]
    },
    {
     "name": "stderr",
     "output_type": "stream",
     "text": [
      "/home/aakhtar/VEnv/sisl-aakhtar/lib/python3.8/site-packages/scipy/optimize/minpack.py:833: OptimizeWarning: Covariance of the parameters could not be estimated\n",
      "  warnings.warn('Covariance of the parameters could not be estimated',\n"
     ]
    },
    {
     "data": {
      "text/plain": [
       "0.4093887641375708"
      ]
     },
     "execution_count": 11,
     "metadata": {},
     "output_type": "execute_result"
    }
   ],
   "source": [
    "G_rho.get_isolated_energy()\n",
    "#G_rho.get_model_corrections()"
   ]
  },
  {
   "cell_type": "code",
   "execution_count": 12,
   "id": "91982fc7",
   "metadata": {},
   "outputs": [
    {
     "name": "stdout",
     "output_type": "stream",
     "text": [
      "Gaussian Class DEBUG: Computing the required correction for each model size\n"
     ]
    }
   ],
   "source": [
    "G_rho.get_model_corrections()"
   ]
  },
  {
   "cell_type": "code",
   "execution_count": 13,
   "id": "61554274",
   "metadata": {},
   "outputs": [
    {
     "data": {
      "text/plain": [
       "{1: 0.3991236927942661, 2: 0.2670712259433753, 3: 0.18638197526425543}"
      ]
     },
     "execution_count": 13,
     "metadata": {},
     "output_type": "execute_result"
    }
   ],
   "source": [
    "G_rho.model_correction_energies"
   ]
  },
  {
   "cell_type": "code",
   "execution_count": 14,
   "id": "6a0af1b8",
   "metadata": {
    "scrolled": true
   },
   "outputs": [
    {
     "name": "stdout",
     "output_type": "stream",
     "text": [
      "..........................................................................\n",
      "Computing Difference in the DFT potentials for the cases of q=q and q=0 \n",
      "\n",
      "..........................................................................\n"
     ]
    },
    {
     "data": {
      "text/plain": [
       "array([[[1.1057564, 1.1046125, 1.1012666, ..., 1.0959355, 1.1012657,\n",
       "         1.104612 ],\n",
       "        [1.1046122, 1.1034741, 1.1001402, ..., 1.0948235, 1.100139 ,\n",
       "         1.1034734],\n",
       "        [1.101266 , 1.1001401, 1.0968375, ..., 1.0915638, 1.0968363,\n",
       "         1.1001393],\n",
       "        ...,\n",
       "        [1.0959364, 1.0948243, 1.0915648, ..., 1.0863442, 1.091564 ,\n",
       "         1.094824 ],\n",
       "        [1.1012658, 1.1001395, 1.096837 , ..., 1.091564 , 1.0968363,\n",
       "         1.1001394],\n",
       "        [1.1046122, 1.1034739, 1.10014  , ..., 1.0948235, 1.100139 ,\n",
       "         1.1034734]],\n",
       "\n",
       "       [[1.1046113, 1.103473 , 1.1001394, ..., 1.0948225, 1.1001382,\n",
       "         1.1034727],\n",
       "        [1.103473 , 1.1023833, 1.0991277, ..., 1.0935348, 1.0989138,\n",
       "         1.102296 ],\n",
       "        [1.1001389, 1.0991273, 1.0959765, ..., 1.0900911, 1.0955045,\n",
       "         1.098914 ],\n",
       "        ...,\n",
       "        [1.0948232, 1.0935355, 1.0900921, ..., 1.0859373, 1.0908881,\n",
       "         1.0939156],\n",
       "        [1.1001387, 1.0989143, 1.0955052, ..., 1.0908879, 1.0959755,\n",
       "         1.0991268],\n",
       "        [1.103473 , 1.1022965, 1.0989145, ..., 1.0939153, 1.0991265,\n",
       "         1.1023825]],\n",
       "\n",
       "       [[1.1012642, 1.1001381, 1.0968356, ..., 1.0915624, 1.0968347,\n",
       "         1.1001378],\n",
       "        [1.100138 , 1.0991266, 1.0959755, ..., 1.0900905, 1.0955036,\n",
       "         1.0989131],\n",
       "        [1.0968351, 1.0959755, 1.09302  , ..., 1.0864897, 1.0919995,\n",
       "         1.0955037],\n",
       "        ...,\n",
       "        [1.0915629, 1.0900911, 1.0864906, ..., 1.0835263, 1.088157 ,\n",
       "         1.0908877],\n",
       "        [1.0968351, 1.0955042, 1.0920002, ..., 1.0881566, 1.093019 ,\n",
       "         1.0959746],\n",
       "        [1.100138 , 1.0989136, 1.0955045, ..., 1.0908871, 1.0959746,\n",
       "         1.0991259]],\n",
       "\n",
       "       ...,\n",
       "\n",
       "       [[1.0959389, 1.0948269, 1.0915676, ..., 1.0863466, 1.0915667,\n",
       "         1.0948267],\n",
       "        [1.0948266, 1.0935394, 1.0900959, ..., 1.0859404, 1.0908915,\n",
       "         1.0939192],\n",
       "        [1.0915672, 1.0900956, 1.0864952, ..., 1.0835303, 1.0881611,\n",
       "         1.0908917],\n",
       "        ...,\n",
       "        [1.0863473, 1.0859411, 1.083531 , ..., 1.0753685, 1.0809423,\n",
       "         1.08467  ],\n",
       "        [1.0915669, 1.090892 , 1.0881618, ..., 1.080942 , 1.086494 ,\n",
       "         1.0900947],\n",
       "        [1.0948266, 1.0939194, 1.0908922, ..., 1.0846697, 1.0900947,\n",
       "         1.0935386]],\n",
       "\n",
       "       [[1.1012677, 1.1001414, 1.096839 , ..., 1.0915655, 1.096838 ,\n",
       "         1.1001409],\n",
       "        [1.1001413, 1.0989169, 1.0955081, ..., 1.0908903, 1.0959779,\n",
       "         1.0991293],\n",
       "        [1.0968387, 1.0955077, 1.0920043, ..., 1.0881599, 1.0930223,\n",
       "         1.0959783],\n",
       "        ...,\n",
       "        [1.091566 , 1.090891 , 1.0881609, ..., 1.0809411, 1.086493 ,\n",
       "         1.090094 ],\n",
       "        [1.0968382, 1.0959783, 1.0930231, ..., 1.0864928, 1.0920029,\n",
       "         1.095507 ],\n",
       "        [1.100141 , 1.0991298, 1.0959786, ..., 1.0900935, 1.0955069,\n",
       "         1.0989164]],\n",
       "\n",
       "       [[1.1046132, 1.1034749, 1.1001407, ..., 1.0948242, 1.10014  ,\n",
       "         1.1034744],\n",
       "        [1.1034744, 1.1022983, 1.0989163, ..., 1.0939168, 1.0991284,\n",
       "         1.1023842],\n",
       "        [1.1001406, 1.0989162, 1.0955073, ..., 1.0908895, 1.095977 ,\n",
       "         1.0991285],\n",
       "        ...,\n",
       "        [1.0948249, 1.0939177, 1.0908903, ..., 1.084668 , 1.0900933,\n",
       "         1.093537 ],\n",
       "        [1.1001403, 1.0991287, 1.0959779, ..., 1.0900928, 1.0955062,\n",
       "         1.0989155],\n",
       "        [1.1034744, 1.1023847, 1.0991291, ..., 1.0935367, 1.0989153,\n",
       "         1.1022975]]], dtype=float32)"
      ]
     },
     "execution_count": 14,
     "metadata": {},
     "output_type": "execute_result"
    }
   ],
   "source": [
    "G_rho.compute_dft_difference_potential_q_q0()"
   ]
  },
  {
   "cell_type": "code",
   "execution_count": 15,
   "id": "abb84459",
   "metadata": {},
   "outputs": [
    {
     "name": "stdout",
     "output_type": "stream",
     "text": [
      "..........................................................................\n",
      "Computing Defect q=0 and pristine \n",
      "\n",
      "..........................................................................\n",
      "-------------------- Potential Alignment Class Start --------------------\n",
      "Potential Alignment Scheme is density_weighted \n",
      "Shape of first potential is (180, 180, 180)\n",
      "Shape of second potential is (180, 180, 180)\n",
      "Shape of charge density is (180, 180, 180)\n",
      "Computing First and Second Potential Difference\n",
      "Density Weighted Alignment Starts\n",
      "Completed alignment. An alignment of 0.32579605535163764 eV is required\n"
     ]
    },
    {
     "data": {
      "text/plain": [
       "0.32579605535163764"
      ]
     },
     "execution_count": 15,
     "metadata": {},
     "output_type": "execute_result"
    }
   ],
   "source": [
    "G_rho.compute_alignment_host_q0()"
   ]
  },
  {
   "cell_type": "code",
   "execution_count": 16,
   "id": "2a4b35a4",
   "metadata": {},
   "outputs": [
    {
     "name": "stdout",
     "output_type": "stream",
     "text": [
      "..........................................................................\n",
      "Computing DFT q_q0 with model_V\n",
      "..........................................................................\n",
      "DEBUG: DFT q_q0 with rho(model) \n",
      "-------------------- Potential Alignment Class Start --------------------\n",
      "Potential Alignment Scheme is density_weighted \n",
      "Shape of first potential is (180, 180, 180)\n",
      "Shape of second potential is (180, 180, 180)\n",
      "Shape of charge density is (180, 180, 180)\n",
      "Computing First and Second Potential Difference\n",
      "Density Weighted Alignment Starts\n",
      "Completed alignment. An alignment of 0.14784465225032645 eV is required\n"
     ]
    },
    {
     "data": {
      "text/plain": [
       "0.14784465225032645"
      ]
     },
     "execution_count": 16,
     "metadata": {},
     "output_type": "execute_result"
    }
   ],
   "source": [
    "G_rho.compute_alignment_model_q_q0()"
   ]
  },
  {
   "cell_type": "code",
   "execution_count": null,
   "id": "5a8627d8",
   "metadata": {},
   "outputs": [],
   "source": [
    "#G_rho.compute_alignment_dft_model()"
   ]
  },
  {
   "cell_type": "code",
   "execution_count": null,
   "id": "c9570480",
   "metadata": {},
   "outputs": [],
   "source": [
    "G_rho."
   ]
  },
  {
   "cell_type": "code",
   "execution_count": null,
   "id": "e06eb7c2",
   "metadata": {},
   "outputs": [],
   "source": [
    "v_q_q0=G_sigma.compute_dft_difference_potential_q_q0()\n",
    "G_sigma.compute_alignment_host_q0()\n",
    "G_sigma.compute_alignment_model_q_q0()"
   ]
  },
  {
   "cell_type": "code",
   "execution_count": null,
   "id": "86fdbd79",
   "metadata": {
    "scrolled": true
   },
   "outputs": [],
   "source": [
    "hv=G_sigma._potential_align_host_q0.first_potential\n",
    "hv"
   ]
  },
  {
   "cell_type": "code",
   "execution_count": null,
   "id": "f7ecdadf",
   "metadata": {
    "scrolled": true
   },
   "outputs": [],
   "source": [
    "dq0v=G_sigma._potential_align_host_q0.second_potential#/27.0\n",
    "dq0v"
   ]
  },
  {
   "cell_type": "code",
   "execution_count": null,
   "id": "1347e81b",
   "metadata": {
    "scrolled": true
   },
   "outputs": [],
   "source": [
    "c=G_sigma._potential_align_host_q0.charge_density\n",
    "c"
   ]
  },
  {
   "cell_type": "code",
   "execution_count": null,
   "id": "8a55d3db",
   "metadata": {
    "scrolled": true
   },
   "outputs": [],
   "source": [
    "vm = G_sigma._potential_align_model_q_q0.second_potential#*27.0\n",
    "vm"
   ]
  },
  {
   "cell_type": "code",
   "execution_count": null,
   "id": "082f1758",
   "metadata": {},
   "outputs": [],
   "source": [
    "import matplotlib.pyplot as plt\n",
    "avg_model_charge = np.average(c,(1,2))\n",
    "avg_model_v = np.average(vm,(1,2))\n",
    "avg_host_v = np.average(hv,(1,2))\n",
    "avg_dq0_v = np.average(dq0v,(1,2))\n",
    "#avg_model_v = np.average(hv,(1,2))\n",
    "#avg_q_q0_v = np.average(v_q_q0,(1,2))\n",
    "#plt.xlim([0,50])\n",
    "#plt.plot(avg_model_charge,label='v_model')\n",
    "#plt.plot(avg_host_v,label='v_host')\n",
    "#plt.plot(avg_dq0_v,label='q0')\n",
    "plt.plot(avg_host_v-avg_dq0_v)\n",
    "plt.plot(avg_model_v)\n",
    "plt.legend()"
   ]
  },
  {
   "cell_type": "code",
   "execution_count": null,
   "id": "0e8745ab",
   "metadata": {},
   "outputs": [],
   "source": []
  },
  {
   "cell_type": "code",
   "execution_count": null,
   "id": "f594aff4",
   "metadata": {},
   "outputs": [],
   "source": []
  },
  {
   "cell_type": "code",
   "execution_count": null,
   "id": "95a784ab",
   "metadata": {},
   "outputs": [],
   "source": [
    "G_rho.run()\n",
    "#G_rho.get_isolated_energy()\n",
    "#G_rho.get_model_corrections()\n",
    "#G_rho.model_correction_energies"
   ]
  },
  {
   "cell_type": "code",
   "execution_count": null,
   "id": "0b70bc66",
   "metadata": {
    "scrolled": true
   },
   "outputs": [],
   "source": [
    "G_rho.compute_dft_difference_potential_q_q0()\n",
    "G_rho.compute_alignment_host_q0()\n",
    "G_rho.compute_alignment_model_q_q0()"
   ]
  },
  {
   "cell_type": "code",
   "execution_count": null,
   "id": "512f0164",
   "metadata": {
    "scrolled": true
   },
   "outputs": [],
   "source": [
    "hv=G_rho._potential_align_host_q0.first_potential"
   ]
  },
  {
   "cell_type": "code",
   "execution_count": null,
   "id": "b47fdf29",
   "metadata": {
    "scrolled": true
   },
   "outputs": [],
   "source": [
    "dq0v=G_rho._potential_align_host_q0.second_potential"
   ]
  },
  {
   "cell_type": "code",
   "execution_count": null,
   "id": "e5ec2783",
   "metadata": {
    "scrolled": true
   },
   "outputs": [],
   "source": [
    "c=G_rho._potential_align_host_q0.charge_density"
   ]
  },
  {
   "cell_type": "code",
   "execution_count": null,
   "id": "4f3ad3f7",
   "metadata": {},
   "outputs": [],
   "source": [
    "import matplotlib.pyplot as plt\n",
    "avg_model_charge = np.average(c,(1,2))\n",
    "avg_model_v = np.average(vm,(1,2))\n",
    "avg_host_v = np.average(hv,(1,2))\n",
    "avg_dq0_v = np.average(dq0v,(1,2))\n",
    "#avg_model_v = np.average(hv,(1,2))\n",
    "#avg_q_q0_v = np.average(v_q_q0,(1,2))\n",
    "#plt.xlim([0,50])\n",
    "#plt.plot(avg_model_charge,label='v_model')\n",
    "#plt.plot(avg_host_v,label='v_host')\n",
    "#plt.plot(avg_dq0_v,label='q0')\n",
    "plt.plot(avg_host_v-avg_dq0_v)\n",
    "plt.plot(avg_model_v)\n",
    "plt.legend()"
   ]
  },
  {
   "cell_type": "code",
   "execution_count": null,
   "id": "807fd7a5",
   "metadata": {},
   "outputs": [],
   "source": []
  },
  {
   "cell_type": "code",
   "execution_count": null,
   "id": "b6b8767a",
   "metadata": {},
   "outputs": [],
   "source": []
  },
  {
   "cell_type": "code",
   "execution_count": null,
   "id": "d7e3d56f",
   "metadata": {},
   "outputs": [],
   "source": [
    "def get_total_alignment(alignment_dft_model, alignment_q0_host, charge):\n",
    "    \"\"\"\n",
    "    Calculate the total potential alignment\n",
    "\n",
    "    Parameters\n",
    "    ----------\n",
    "    alignment_dft_model:\n",
    "    The correction energy derived from the alignment of the DFT difference\n",
    "          potential and the model potential\n",
    "    alignment_q0_host:\n",
    "        The correction energy derived from the alignment of the defect\n",
    "        potential in the q=0 charge state and the potential of the pristine host structure\n",
    "    charge:  The charge state of the defect\n",
    "\n",
    "    Returns\n",
    "    -------\n",
    "    total_alignment\n",
    "        The calculated total potential alignment\n",
    "\n",
    "    \"\"\"\n",
    "\n",
    "    total_alignment = -1.0*(charge * alignment_dft_model) + (charge * alignment_q0_host)\n",
    "\n",
    "    return total_alignment\n"
   ]
  },
  {
   "cell_type": "code",
   "execution_count": null,
   "id": "3e5c3c7a",
   "metadata": {},
   "outputs": [],
   "source": [
    "totl_align = get_total_alignment(G_rho.align_model_q_q0 , G_rho.align_host_q0,-2)"
   ]
  },
  {
   "cell_type": "code",
   "execution_count": null,
   "id": "b69b9742",
   "metadata": {},
   "outputs": [],
   "source": [
    "totl_align"
   ]
  },
  {
   "cell_type": "code",
   "execution_count": null,
   "id": "1630bb9b",
   "metadata": {},
   "outputs": [],
   "source": [
    "def get_total_correction(model_correction, total_alignment):\n",
    "    \"\"\"\n",
    "    Calculate the total correction, including the potential alignments\n",
    "\n",
    "    Parameters\n",
    "    ----------\n",
    "    model_correction: orm.Float\n",
    "        The correction energy derived from the electrostatic model\n",
    "    total_alignment: orm.Float\n",
    "        The correction energy derived from the alignment of the DFT difference\n",
    "        potential and the model potential, and alignment of the defect potential\n",
    "        in the q=0 charge state and the potential of the pristine host structure\n",
    "\n",
    "    Returns\n",
    "    -------\n",
    "    total_correction\n",
    "        The calculated correction, including potential alignment\n",
    "\n",
    "    \"\"\"\n",
    "\n",
    "    total_correction = model_correction - total_alignment  #Maybe A BUG!!\n",
    "    #total_correction = model_correction + total_alignment\n",
    "\n",
    "    return total_correction\n"
   ]
  },
  {
   "cell_type": "code",
   "execution_count": null,
   "id": "590e6a0a",
   "metadata": {},
   "outputs": [],
   "source": [
    "get_total_correction(G_rho.model_correction_energies[1],totl_align)"
   ]
  },
  {
   "cell_type": "markdown",
   "id": "65a8e4ab",
   "metadata": {},
   "source": [
    "# Plots"
   ]
  },
  {
   "cell_type": "code",
   "execution_count": null,
   "id": "27b35bf0",
   "metadata": {},
   "outputs": [],
   "source": [
    "G_rho."
   ]
  },
  {
   "cell_type": "code",
   "execution_count": null,
   "id": "bc376c41",
   "metadata": {},
   "outputs": [],
   "source": [
    "import matplotlib.pyplot as plt\n",
    "avg_model_charge = np.average(G_rho.model_charges[1],(1,2))\n",
    "avg_model_v = np.average(G_rho.v_model[1],(1,2))\n",
    "avg_host_v = np.average(G_rho.v_host_array.grid,(1,2))\n",
    "#avg_diff = np.average(G_rho.v_model[1]-G_rho.v_host_array.grid,(1,2))\n",
    "avg_q_q0_v = np.average(v_q_q0,(1,2))\n",
    "#avg_q_q0_v = np.average(G_rho.v_defect_q_q0,(1,2))\n",
    "#avg_model_charge_2 = np.average(inputs_siesta.Input_Gaussian.model_charges[2],(1,2))\n",
    "#avg_model_charge_3 = np.average(inputs_siesta.Input_Gaussian.model_charges[3],(1,2))\n",
    "#plt.xlim([0,50])\n",
    "plt.plot(avg_model_charge,label='222')\n",
    "#plt.plot(avg_model_v,label='v_model')\n",
    "#plt.plot(avg_host_v,label='v_host')\n",
    "#plt.plot(avg_q_q0_v,label='v_q_q0')\n",
    "#plt.plot(avg_q_q0_v-avg_model_v)\n",
    "#plt.plot(avg_diff)\n",
    "#plt.plot(avg_model_charge_3,label='444')\n",
    "plt.legend()"
   ]
  },
  {
   "cell_type": "code",
   "execution_count": null,
   "id": "fc00d4ca",
   "metadata": {},
   "outputs": [],
   "source": [
    "G_rho.v_host_array.grid"
   ]
  },
  {
   "cell_type": "code",
   "execution_count": null,
   "id": "7727eb0e",
   "metadata": {},
   "outputs": [],
   "source": [
    "\n",
    "import numpy as np\n",
    "import matplotlib.pyplot as plt\n",
    "from mpl_toolkits import mplot3d\n",
    "\n",
    "def plot_surface(domain, fn, grid_samples=100, title=None, **plot_kwargs):\n",
    "    x = np.linspace(domain[0][0], domain[0][1], grid_samples)\n",
    "    y = np.linspace(domain[1][0], domain[1][1], grid_samples)\n",
    "    \n",
    "    X, Y = np.meshgrid(x, y)\n",
    "    \n",
    "    fn_vectorized = np.vectorize(fn)\n",
    "    Z = fn_vectorized(X, Y)\n",
    "    \n",
    "    fig = plt.figure(figsize=(20,10))\n",
    "    ax = plt.axes(projection=\"3d\")\n",
    "    ax.plot_surface(X, Y, Z, **plot_kwargs)\n",
    "    ax.set(xlabel=\"x\", ylabel=\"y\", zlabel=\"f(x, y)\", title=title)\n",
    "    plt.close()\n",
    "\n",
    "    return fig, ax\n",
    "\n"
   ]
  },
  {
   "cell_type": "code",
   "execution_count": null,
   "id": "d81be9db",
   "metadata": {},
   "outputs": [],
   "source": [
    "def plot_surface(domain, fn, grid_samples=100, title=None, **plot_kwargs):\n",
    "    x = np.linspace(domain[0][0], domain[0][1], grid_samples)\n",
    "    y = np.linspace(domain[1][0], domain[1][1], grid_samples)\n",
    "    \n",
    "    X, Y = np.meshgrid(x, y)\n",
    "    \n",
    "    fn_vectorized = np.vectorize(fn)\n",
    "    Z = fn_vectorized(X, Y)\n",
    "    \n",
    "    fig = plt.figure(figsize=(20,10))\n",
    "    ax = plt.axes(projection=\"3d\")\n",
    "    ax.plot_surface(X, Y, Z, **plot_kwargs)\n",
    "    ax.set(xlabel=\"x\", ylabel=\"y\", zlabel=\"f(x, y)\", title=title)\n",
    "    plt.close()\n",
    "\n",
    "    return fig, ax"
   ]
  },
  {
   "cell_type": "code",
   "execution_count": null,
   "id": "c0c06096",
   "metadata": {},
   "outputs": [],
   "source": [
    "import matplotlib.pyplot as plt\n",
    "from mpl_toolkits.mplot3d import Axes3D\n",
    "fig = plt.figure()\n",
    "# now let's try it out!\n",
    "def func(x, y):\n",
    "    return -np.sin(10 * (x**2 + y**2)) / 10\n",
    "    \n",
    "domain = [(-0.5, 0.5), (-0.5, 0.5)] \n",
    "fig, ax = plot_surface(domain, func, rstride=1, cstride=1, cmap='terrain', edgecolor=None)\n",
    "\n",
    "fig"
   ]
  }
 ],
 "metadata": {
  "kernelspec": {
   "display_name": "Python 3 (ipykernel)",
   "language": "python",
   "name": "python3"
  },
  "language_info": {
   "codemirror_mode": {
    "name": "ipython",
    "version": 3
   },
   "file_extension": ".py",
   "mimetype": "text/x-python",
   "name": "python",
   "nbconvert_exporter": "python",
   "pygments_lexer": "ipython3",
   "version": "3.8.10"
  }
 },
 "nbformat": 4,
 "nbformat_minor": 5
}
